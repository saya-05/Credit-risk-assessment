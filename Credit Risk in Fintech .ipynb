{
 "cells": [
  {
   "cell_type": "code",
   "execution_count": 88,
   "id": "f21b201d",
   "metadata": {},
   "outputs": [],
   "source": [
    "#Load the libraries\n",
    "import pandas as pd\n",
    "import numpy as np\n",
    "\n",
    "#visualization\n",
    "import seaborn as sns\n",
    "import matplotlib.pyplot as plt\n",
    "\n",
    "import warnings\n",
    "warnings.filterwarnings('ignore')\n",
    "%matplotlib inline\n",
    "\n",
    "#Pipeline\n",
    "from sklearn.pipeline import Pipeline\n",
    "from sklearn.compose import ColumnTransformer\n",
    "\n",
    "from sklearn.preprocessing import OneHotEncoder, MinMaxScaler\n",
    "from sklearn.impute import SimpleImputer\n",
    "from sklearn.model_selection import train_test_split, GridSearchCV\n",
    "\n",
    "#Model\n",
    "from sklearn.linear_model import LogisticRegression\n",
    "from sklearn.neighbors import KNeighborsClassifier\n",
    "from sklearn.ensemble import RandomForestClassifier\n",
    "import xgboost as xgb\n",
    "from sklearn.ensemble import VotingClassifier, StackingClassifier\n",
    "from sklearn.metrics import accuracy_score, confusion_matrix, classification_report, log_loss\n",
    "\n",
    "import joblib"
   ]
  },
  {
   "cell_type": "code",
   "execution_count": 31,
   "id": "40e7fca4",
   "metadata": {},
   "outputs": [],
   "source": [
    "#read the files\n",
    "train = pd.read_csv('train_loan_data.csv')\n",
    "test = pd.read_csv('test_loan_data.csv')\n",
    "result = pd.read_csv('test_results.csv')"
   ]
  },
  {
   "cell_type": "code",
   "execution_count": 32,
   "id": "df7c7dcf",
   "metadata": {},
   "outputs": [
    {
     "data": {
      "text/plain": [
       "((80000, 28), (20000, 27), (20000, 1))"
      ]
     },
     "execution_count": 32,
     "metadata": {},
     "output_type": "execute_result"
    }
   ],
   "source": [
    "train.shape, test.shape, result.shape"
   ]
  },
  {
   "cell_type": "code",
   "execution_count": 33,
   "id": "259ba950",
   "metadata": {},
   "outputs": [
    {
     "name": "stdout",
     "output_type": "stream",
     "text": [
      "<class 'pandas.core.frame.DataFrame'>\n",
      "RangeIndex: 80000 entries, 0 to 79999\n",
      "Data columns (total 28 columns):\n",
      " #   Column                Non-Null Count  Dtype  \n",
      "---  ------                --------------  -----  \n",
      " 0   addr_state            80000 non-null  object \n",
      " 1   annual_inc            80000 non-null  float64\n",
      " 2   earliest_cr_line      80000 non-null  object \n",
      " 3   emp_length            75412 non-null  object \n",
      " 4   emp_title             74982 non-null  object \n",
      " 5   fico_range_high       80000 non-null  float64\n",
      " 6   fico_range_low        80000 non-null  float64\n",
      " 7   grade                 80000 non-null  object \n",
      " 8   home_ownership        80000 non-null  object \n",
      " 9   application_type      80000 non-null  object \n",
      " 10  initial_list_status   80000 non-null  object \n",
      " 11  int_rate              80000 non-null  float64\n",
      " 12  loan_amnt             80000 non-null  float64\n",
      " 13  num_actv_bc_tl        76052 non-null  float64\n",
      " 14  mort_acc              77229 non-null  float64\n",
      " 15  tot_cur_bal           76052 non-null  float64\n",
      " 16  open_acc              80000 non-null  float64\n",
      " 17  pub_rec               80000 non-null  float64\n",
      " 18  pub_rec_bankruptcies  79969 non-null  float64\n",
      " 19  purpose               80000 non-null  object \n",
      " 20  revol_bal             80000 non-null  float64\n",
      " 21  revol_util            79947 non-null  float64\n",
      " 22  sub_grade             80000 non-null  object \n",
      " 23  term                  80000 non-null  object \n",
      " 24  title                 79030 non-null  object \n",
      " 25  total_acc             80000 non-null  float64\n",
      " 26  verification_status   80000 non-null  object \n",
      " 27  loan_status           80000 non-null  object \n",
      "dtypes: float64(14), object(14)\n",
      "memory usage: 17.1+ MB\n",
      "<class 'pandas.core.frame.DataFrame'>\n",
      "RangeIndex: 20000 entries, 0 to 19999\n",
      "Data columns (total 27 columns):\n",
      " #   Column                Non-Null Count  Dtype  \n",
      "---  ------                --------------  -----  \n",
      " 0   addr_state            20000 non-null  object \n",
      " 1   annual_inc            20000 non-null  float64\n",
      " 2   earliest_cr_line      20000 non-null  object \n",
      " 3   emp_length            18742 non-null  object \n",
      " 4   emp_title             18622 non-null  object \n",
      " 5   fico_range_high       20000 non-null  float64\n",
      " 6   fico_range_low        20000 non-null  float64\n",
      " 7   grade                 20000 non-null  object \n",
      " 8   home_ownership        20000 non-null  object \n",
      " 9   application_type      20000 non-null  object \n",
      " 10  initial_list_status   20000 non-null  object \n",
      " 11  int_rate              20000 non-null  float64\n",
      " 12  loan_amnt             20000 non-null  float64\n",
      " 13  num_actv_bc_tl        18989 non-null  float64\n",
      " 14  mort_acc              19296 non-null  float64\n",
      " 15  tot_cur_bal           18989 non-null  float64\n",
      " 16  open_acc              20000 non-null  float64\n",
      " 17  pub_rec               20000 non-null  float64\n",
      " 18  pub_rec_bankruptcies  19989 non-null  float64\n",
      " 19  purpose               20000 non-null  object \n",
      " 20  revol_bal             20000 non-null  float64\n",
      " 21  revol_util            19987 non-null  float64\n",
      " 22  sub_grade             20000 non-null  object \n",
      " 23  term                  20000 non-null  object \n",
      " 24  title                 19753 non-null  object \n",
      " 25  total_acc             20000 non-null  float64\n",
      " 26  verification_status   20000 non-null  object \n",
      "dtypes: float64(14), object(13)\n",
      "memory usage: 4.1+ MB\n",
      "<class 'pandas.core.frame.DataFrame'>\n",
      "RangeIndex: 20000 entries, 0 to 19999\n",
      "Data columns (total 1 columns):\n",
      " #   Column       Non-Null Count  Dtype \n",
      "---  ------       --------------  ----- \n",
      " 0   loan_status  20000 non-null  object\n",
      "dtypes: object(1)\n",
      "memory usage: 156.4+ KB\n"
     ]
    },
    {
     "data": {
      "text/plain": [
       "(None, None, None)"
      ]
     },
     "execution_count": 33,
     "metadata": {},
     "output_type": "execute_result"
    }
   ],
   "source": [
    "train.info(), test.info(), result.info()"
   ]
  },
  {
   "cell_type": "code",
   "execution_count": 34,
   "id": "bbf3ee4e",
   "metadata": {},
   "outputs": [
    {
     "data": {
      "text/html": [
       "<div>\n",
       "<style scoped>\n",
       "    .dataframe tbody tr th:only-of-type {\n",
       "        vertical-align: middle;\n",
       "    }\n",
       "\n",
       "    .dataframe tbody tr th {\n",
       "        vertical-align: top;\n",
       "    }\n",
       "\n",
       "    .dataframe thead th {\n",
       "        text-align: right;\n",
       "    }\n",
       "</style>\n",
       "<table border=\"1\" class=\"dataframe\">\n",
       "  <thead>\n",
       "    <tr style=\"text-align: right;\">\n",
       "      <th></th>\n",
       "      <th>addr_state</th>\n",
       "      <th>annual_inc</th>\n",
       "      <th>earliest_cr_line</th>\n",
       "      <th>emp_length</th>\n",
       "      <th>emp_title</th>\n",
       "      <th>fico_range_high</th>\n",
       "      <th>fico_range_low</th>\n",
       "      <th>grade</th>\n",
       "      <th>home_ownership</th>\n",
       "      <th>application_type</th>\n",
       "      <th>...</th>\n",
       "      <th>pub_rec_bankruptcies</th>\n",
       "      <th>purpose</th>\n",
       "      <th>revol_bal</th>\n",
       "      <th>revol_util</th>\n",
       "      <th>sub_grade</th>\n",
       "      <th>term</th>\n",
       "      <th>title</th>\n",
       "      <th>total_acc</th>\n",
       "      <th>verification_status</th>\n",
       "      <th>loan_status</th>\n",
       "    </tr>\n",
       "  </thead>\n",
       "  <tbody>\n",
       "    <tr>\n",
       "      <th>0</th>\n",
       "      <td>CO</td>\n",
       "      <td>85000.0</td>\n",
       "      <td>Jul-1997</td>\n",
       "      <td>10+ years</td>\n",
       "      <td>Deputy</td>\n",
       "      <td>744.0</td>\n",
       "      <td>740.0</td>\n",
       "      <td>E</td>\n",
       "      <td>MORTGAGE</td>\n",
       "      <td>Individual</td>\n",
       "      <td>...</td>\n",
       "      <td>0.0</td>\n",
       "      <td>debt_consolidation</td>\n",
       "      <td>5338.0</td>\n",
       "      <td>93.6</td>\n",
       "      <td>E1</td>\n",
       "      <td>60 months</td>\n",
       "      <td>Debt consolidation</td>\n",
       "      <td>8.0</td>\n",
       "      <td>Source Verified</td>\n",
       "      <td>Charged Off</td>\n",
       "    </tr>\n",
       "    <tr>\n",
       "      <th>1</th>\n",
       "      <td>CA</td>\n",
       "      <td>40000.0</td>\n",
       "      <td>Apr-1987</td>\n",
       "      <td>10+ years</td>\n",
       "      <td>Department of Veterans Affairs</td>\n",
       "      <td>724.0</td>\n",
       "      <td>720.0</td>\n",
       "      <td>B</td>\n",
       "      <td>RENT</td>\n",
       "      <td>Individual</td>\n",
       "      <td>...</td>\n",
       "      <td>0.0</td>\n",
       "      <td>debt_consolidation</td>\n",
       "      <td>19944.0</td>\n",
       "      <td>60.3</td>\n",
       "      <td>B1</td>\n",
       "      <td>36 months</td>\n",
       "      <td>Credit Loan</td>\n",
       "      <td>12.0</td>\n",
       "      <td>Verified</td>\n",
       "      <td>Fully Paid</td>\n",
       "    </tr>\n",
       "  </tbody>\n",
       "</table>\n",
       "<p>2 rows × 28 columns</p>\n",
       "</div>"
      ],
      "text/plain": [
       "  addr_state  annual_inc earliest_cr_line emp_length  \\\n",
       "0         CO     85000.0         Jul-1997  10+ years   \n",
       "1         CA     40000.0         Apr-1987  10+ years   \n",
       "\n",
       "                        emp_title  fico_range_high  fico_range_low grade  \\\n",
       "0                          Deputy            744.0           740.0     E   \n",
       "1  Department of Veterans Affairs            724.0           720.0     B   \n",
       "\n",
       "  home_ownership application_type  ... pub_rec_bankruptcies  \\\n",
       "0       MORTGAGE       Individual  ...                  0.0   \n",
       "1           RENT       Individual  ...                  0.0   \n",
       "\n",
       "              purpose  revol_bal  revol_util  sub_grade        term  \\\n",
       "0  debt_consolidation     5338.0        93.6         E1   60 months   \n",
       "1  debt_consolidation    19944.0        60.3         B1   36 months   \n",
       "\n",
       "                title  total_acc  verification_status  loan_status  \n",
       "0  Debt consolidation        8.0      Source Verified  Charged Off  \n",
       "1         Credit Loan       12.0             Verified   Fully Paid  \n",
       "\n",
       "[2 rows x 28 columns]"
      ]
     },
     "metadata": {},
     "output_type": "display_data"
    },
    {
     "data": {
      "text/html": [
       "<div>\n",
       "<style scoped>\n",
       "    .dataframe tbody tr th:only-of-type {\n",
       "        vertical-align: middle;\n",
       "    }\n",
       "\n",
       "    .dataframe tbody tr th {\n",
       "        vertical-align: top;\n",
       "    }\n",
       "\n",
       "    .dataframe thead th {\n",
       "        text-align: right;\n",
       "    }\n",
       "</style>\n",
       "<table border=\"1\" class=\"dataframe\">\n",
       "  <thead>\n",
       "    <tr style=\"text-align: right;\">\n",
       "      <th></th>\n",
       "      <th>addr_state</th>\n",
       "      <th>annual_inc</th>\n",
       "      <th>earliest_cr_line</th>\n",
       "      <th>emp_length</th>\n",
       "      <th>emp_title</th>\n",
       "      <th>fico_range_high</th>\n",
       "      <th>fico_range_low</th>\n",
       "      <th>grade</th>\n",
       "      <th>home_ownership</th>\n",
       "      <th>application_type</th>\n",
       "      <th>...</th>\n",
       "      <th>pub_rec</th>\n",
       "      <th>pub_rec_bankruptcies</th>\n",
       "      <th>purpose</th>\n",
       "      <th>revol_bal</th>\n",
       "      <th>revol_util</th>\n",
       "      <th>sub_grade</th>\n",
       "      <th>term</th>\n",
       "      <th>title</th>\n",
       "      <th>total_acc</th>\n",
       "      <th>verification_status</th>\n",
       "    </tr>\n",
       "  </thead>\n",
       "  <tbody>\n",
       "    <tr>\n",
       "      <th>0</th>\n",
       "      <td>MO</td>\n",
       "      <td>50000.0</td>\n",
       "      <td>May-2012</td>\n",
       "      <td>1 year</td>\n",
       "      <td>Tower technician</td>\n",
       "      <td>719.0</td>\n",
       "      <td>715.0</td>\n",
       "      <td>C</td>\n",
       "      <td>OWN</td>\n",
       "      <td>Individual</td>\n",
       "      <td>...</td>\n",
       "      <td>0.0</td>\n",
       "      <td>0.0</td>\n",
       "      <td>debt_consolidation</td>\n",
       "      <td>2568.0</td>\n",
       "      <td>9.8</td>\n",
       "      <td>C4</td>\n",
       "      <td>36 months</td>\n",
       "      <td>Debt consolidation</td>\n",
       "      <td>11.0</td>\n",
       "      <td>Source Verified</td>\n",
       "    </tr>\n",
       "    <tr>\n",
       "      <th>1</th>\n",
       "      <td>HI</td>\n",
       "      <td>92000.0</td>\n",
       "      <td>Dec-2001</td>\n",
       "      <td>10+ years</td>\n",
       "      <td>Supervisor</td>\n",
       "      <td>684.0</td>\n",
       "      <td>680.0</td>\n",
       "      <td>B</td>\n",
       "      <td>RENT</td>\n",
       "      <td>Individual</td>\n",
       "      <td>...</td>\n",
       "      <td>0.0</td>\n",
       "      <td>0.0</td>\n",
       "      <td>debt_consolidation</td>\n",
       "      <td>30394.0</td>\n",
       "      <td>75.4</td>\n",
       "      <td>B2</td>\n",
       "      <td>36 months</td>\n",
       "      <td>Debt consolidation</td>\n",
       "      <td>35.0</td>\n",
       "      <td>Source Verified</td>\n",
       "    </tr>\n",
       "  </tbody>\n",
       "</table>\n",
       "<p>2 rows × 27 columns</p>\n",
       "</div>"
      ],
      "text/plain": [
       "  addr_state  annual_inc earliest_cr_line emp_length         emp_title  \\\n",
       "0         MO     50000.0         May-2012     1 year  Tower technician   \n",
       "1         HI     92000.0         Dec-2001  10+ years        Supervisor   \n",
       "\n",
       "   fico_range_high  fico_range_low grade home_ownership application_type  ...  \\\n",
       "0            719.0           715.0     C            OWN       Individual  ...   \n",
       "1            684.0           680.0     B           RENT       Individual  ...   \n",
       "\n",
       "  pub_rec  pub_rec_bankruptcies             purpose  revol_bal  revol_util  \\\n",
       "0     0.0                   0.0  debt_consolidation     2568.0         9.8   \n",
       "1     0.0                   0.0  debt_consolidation    30394.0        75.4   \n",
       "\n",
       "   sub_grade        term               title  total_acc verification_status  \n",
       "0         C4   36 months  Debt consolidation       11.0     Source Verified  \n",
       "1         B2   36 months  Debt consolidation       35.0     Source Verified  \n",
       "\n",
       "[2 rows x 27 columns]"
      ]
     },
     "metadata": {},
     "output_type": "display_data"
    },
    {
     "data": {
      "text/html": [
       "<div>\n",
       "<style scoped>\n",
       "    .dataframe tbody tr th:only-of-type {\n",
       "        vertical-align: middle;\n",
       "    }\n",
       "\n",
       "    .dataframe tbody tr th {\n",
       "        vertical-align: top;\n",
       "    }\n",
       "\n",
       "    .dataframe thead th {\n",
       "        text-align: right;\n",
       "    }\n",
       "</style>\n",
       "<table border=\"1\" class=\"dataframe\">\n",
       "  <thead>\n",
       "    <tr style=\"text-align: right;\">\n",
       "      <th></th>\n",
       "      <th>loan_status</th>\n",
       "    </tr>\n",
       "  </thead>\n",
       "  <tbody>\n",
       "    <tr>\n",
       "      <th>0</th>\n",
       "      <td>Fully Paid</td>\n",
       "    </tr>\n",
       "    <tr>\n",
       "      <th>1</th>\n",
       "      <td>Fully Paid</td>\n",
       "    </tr>\n",
       "  </tbody>\n",
       "</table>\n",
       "</div>"
      ],
      "text/plain": [
       "  loan_status\n",
       "0  Fully Paid\n",
       "1  Fully Paid"
      ]
     },
     "metadata": {},
     "output_type": "display_data"
    }
   ],
   "source": [
    "display(train.head(2), test.head(2),result.head(2))"
   ]
  },
  {
   "cell_type": "markdown",
   "id": "2c55806c",
   "metadata": {},
   "source": [
    "## EDA and Preprocessing"
   ]
  },
  {
   "cell_type": "code",
   "execution_count": 35,
   "id": "de9215b6",
   "metadata": {},
   "outputs": [
    {
     "data": {
      "text/plain": [
       "(0, 0)"
      ]
     },
     "execution_count": 35,
     "metadata": {},
     "output_type": "execute_result"
    }
   ],
   "source": [
    "train.duplicated().sum(), test.duplicated().sum()"
   ]
  },
  {
   "cell_type": "code",
   "execution_count": 36,
   "id": "807cf08c",
   "metadata": {},
   "outputs": [
    {
     "data": {
      "text/plain": [
       "(100000, 28)"
      ]
     },
     "execution_count": 36,
     "metadata": {},
     "output_type": "execute_result"
    }
   ],
   "source": [
    "data = pd.concat([train,test])\n",
    "data.shape"
   ]
  },
  {
   "cell_type": "code",
   "execution_count": 37,
   "id": "f40d8cf5",
   "metadata": {},
   "outputs": [
    {
     "data": {
      "text/plain": [
       "Index(['addr_state', 'annual_inc', 'earliest_cr_line', 'emp_length',\n",
       "       'emp_title', 'fico_range_high', 'fico_range_low', 'grade',\n",
       "       'home_ownership', 'application_type', 'initial_list_status', 'int_rate',\n",
       "       'loan_amnt', 'num_actv_bc_tl', 'mort_acc', 'tot_cur_bal', 'open_acc',\n",
       "       'pub_rec', 'pub_rec_bankruptcies', 'purpose', 'revol_bal', 'revol_util',\n",
       "       'sub_grade', 'term', 'title', 'total_acc', 'verification_status',\n",
       "       'loan_status'],\n",
       "      dtype='object')"
      ]
     },
     "execution_count": 37,
     "metadata": {},
     "output_type": "execute_result"
    }
   ],
   "source": [
    "data.columns"
   ]
  },
  {
   "cell_type": "code",
   "execution_count": 38,
   "id": "3cfc8ffc",
   "metadata": {},
   "outputs": [
    {
     "data": {
      "text/html": [
       "<div>\n",
       "<style scoped>\n",
       "    .dataframe tbody tr th:only-of-type {\n",
       "        vertical-align: middle;\n",
       "    }\n",
       "\n",
       "    .dataframe tbody tr th {\n",
       "        vertical-align: top;\n",
       "    }\n",
       "\n",
       "    .dataframe thead th {\n",
       "        text-align: right;\n",
       "    }\n",
       "</style>\n",
       "<table border=\"1\" class=\"dataframe\">\n",
       "  <thead>\n",
       "    <tr style=\"text-align: right;\">\n",
       "      <th></th>\n",
       "      <th>addr_state</th>\n",
       "      <th>annual_inc</th>\n",
       "      <th>earliest_cr_line</th>\n",
       "      <th>emp_length</th>\n",
       "      <th>emp_title</th>\n",
       "      <th>fico_range_high</th>\n",
       "      <th>fico_range_low</th>\n",
       "      <th>grade</th>\n",
       "      <th>home_ownership</th>\n",
       "      <th>application_type</th>\n",
       "      <th>...</th>\n",
       "      <th>pub_rec_bankruptcies</th>\n",
       "      <th>purpose</th>\n",
       "      <th>revol_bal</th>\n",
       "      <th>revol_util</th>\n",
       "      <th>sub_grade</th>\n",
       "      <th>term</th>\n",
       "      <th>title</th>\n",
       "      <th>total_acc</th>\n",
       "      <th>verification_status</th>\n",
       "      <th>loan_status</th>\n",
       "    </tr>\n",
       "  </thead>\n",
       "  <tbody>\n",
       "    <tr>\n",
       "      <th>0</th>\n",
       "      <td>CO</td>\n",
       "      <td>85000.0</td>\n",
       "      <td>Jul-1997</td>\n",
       "      <td>10+ years</td>\n",
       "      <td>Deputy</td>\n",
       "      <td>744.0</td>\n",
       "      <td>740.0</td>\n",
       "      <td>E</td>\n",
       "      <td>MORTGAGE</td>\n",
       "      <td>Individual</td>\n",
       "      <td>...</td>\n",
       "      <td>0.0</td>\n",
       "      <td>debt_consolidation</td>\n",
       "      <td>5338.0</td>\n",
       "      <td>93.6</td>\n",
       "      <td>E1</td>\n",
       "      <td>60 months</td>\n",
       "      <td>Debt consolidation</td>\n",
       "      <td>8.0</td>\n",
       "      <td>Source Verified</td>\n",
       "      <td>Charged Off</td>\n",
       "    </tr>\n",
       "    <tr>\n",
       "      <th>1</th>\n",
       "      <td>CA</td>\n",
       "      <td>40000.0</td>\n",
       "      <td>Apr-1987</td>\n",
       "      <td>10+ years</td>\n",
       "      <td>Department of Veterans Affairs</td>\n",
       "      <td>724.0</td>\n",
       "      <td>720.0</td>\n",
       "      <td>B</td>\n",
       "      <td>RENT</td>\n",
       "      <td>Individual</td>\n",
       "      <td>...</td>\n",
       "      <td>0.0</td>\n",
       "      <td>debt_consolidation</td>\n",
       "      <td>19944.0</td>\n",
       "      <td>60.3</td>\n",
       "      <td>B1</td>\n",
       "      <td>36 months</td>\n",
       "      <td>Credit Loan</td>\n",
       "      <td>12.0</td>\n",
       "      <td>Verified</td>\n",
       "      <td>Fully Paid</td>\n",
       "    </tr>\n",
       "  </tbody>\n",
       "</table>\n",
       "<p>2 rows × 28 columns</p>\n",
       "</div>"
      ],
      "text/plain": [
       "  addr_state  annual_inc earliest_cr_line emp_length  \\\n",
       "0         CO     85000.0         Jul-1997  10+ years   \n",
       "1         CA     40000.0         Apr-1987  10+ years   \n",
       "\n",
       "                        emp_title  fico_range_high  fico_range_low grade  \\\n",
       "0                          Deputy            744.0           740.0     E   \n",
       "1  Department of Veterans Affairs            724.0           720.0     B   \n",
       "\n",
       "  home_ownership application_type  ... pub_rec_bankruptcies  \\\n",
       "0       MORTGAGE       Individual  ...                  0.0   \n",
       "1           RENT       Individual  ...                  0.0   \n",
       "\n",
       "              purpose  revol_bal  revol_util  sub_grade        term  \\\n",
       "0  debt_consolidation     5338.0        93.6         E1   60 months   \n",
       "1  debt_consolidation    19944.0        60.3         B1   36 months   \n",
       "\n",
       "                title  total_acc  verification_status  loan_status  \n",
       "0  Debt consolidation        8.0      Source Verified  Charged Off  \n",
       "1         Credit Loan       12.0             Verified   Fully Paid  \n",
       "\n",
       "[2 rows x 28 columns]"
      ]
     },
     "execution_count": 38,
     "metadata": {},
     "output_type": "execute_result"
    }
   ],
   "source": [
    "data.head(2)"
   ]
  },
  {
   "cell_type": "code",
   "execution_count": 39,
   "id": "35ab9383",
   "metadata": {},
   "outputs": [
    {
     "name": "stdout",
     "output_type": "stream",
     "text": [
      "Index(['addr_state', 'earliest_cr_line', 'emp_length', 'emp_title', 'grade',\n",
      "       'home_ownership', 'application_type', 'initial_list_status', 'purpose',\n",
      "       'sub_grade', 'term', 'title', 'verification_status'],\n",
      "      dtype='object') Index(['annual_inc', 'fico_range_high', 'fico_range_low', 'int_rate',\n",
      "       'loan_amnt', 'num_actv_bc_tl', 'mort_acc', 'tot_cur_bal', 'open_acc',\n",
      "       'pub_rec', 'pub_rec_bankruptcies', 'revol_bal', 'revol_util',\n",
      "       'total_acc'],\n",
      "      dtype='object')\n"
     ]
    }
   ],
   "source": [
    "cat_cols = data.drop(columns='loan_status').select_dtypes(include = object).columns\n",
    "num_cols = data.select_dtypes(include=np.number).columns\n",
    "print(cat_cols,num_cols)"
   ]
  },
  {
   "cell_type": "code",
   "execution_count": 40,
   "id": "bf7da33c",
   "metadata": {},
   "outputs": [
    {
     "data": {
      "text/plain": [
       "<Axes: ylabel='loan_status'>"
      ]
     },
     "execution_count": 40,
     "metadata": {},
     "output_type": "execute_result"
    },
    {
     "data": {
      "image/png": "[encoded data removed]",
      "text/plain": [
       "<Figure size 640x480 with 1 Axes>"
      ]
     },
     "metadata": {},
     "output_type": "display_data"
    }
   ],
   "source": [
    "data['loan_status'].value_counts().plot.pie(autopct = '%1.1f%%')"
   ]
  },
  {
   "cell_type": "code",
   "execution_count": 41,
   "id": "87da448d",
   "metadata": {},
   "outputs": [
    {
     "data": {
      "image/png": "[encoded data removed]",
      "text/plain": [
       "<Figure size 640x480 with 1 Axes>"
      ]
     },
     "metadata": {},
     "output_type": "display_data"
    }
   ],
   "source": [
    "plot = sns.countplot(x='home_ownership',data=data)\n",
    "plt.setp(plot.get_xticklabels(),rotation=90)\n",
    "plt.show()"
   ]
  },
  {
   "cell_type": "code",
   "execution_count": 42,
   "id": "4e4392e5",
   "metadata": {},
   "outputs": [
    {
     "data": {
      "text/html": [
       "<div>\n",
       "<style scoped>\n",
       "    .dataframe tbody tr th:only-of-type {\n",
       "        vertical-align: middle;\n",
       "    }\n",
       "\n",
       "    .dataframe tbody tr th {\n",
       "        vertical-align: top;\n",
       "    }\n",
       "\n",
       "    .dataframe thead th {\n",
       "        text-align: right;\n",
       "    }\n",
       "</style>\n",
       "<table border=\"1\" class=\"dataframe\">\n",
       "  <thead>\n",
       "    <tr style=\"text-align: right;\">\n",
       "      <th>loan_status</th>\n",
       "      <th>Charged Off</th>\n",
       "      <th>Fully Paid</th>\n",
       "    </tr>\n",
       "    <tr>\n",
       "      <th>home_ownership</th>\n",
       "      <th></th>\n",
       "      <th></th>\n",
       "    </tr>\n",
       "  </thead>\n",
       "  <tbody>\n",
       "    <tr>\n",
       "      <th>ANY</th>\n",
       "      <td>2</td>\n",
       "      <td>17</td>\n",
       "    </tr>\n",
       "    <tr>\n",
       "      <th>MORTGAGE</th>\n",
       "      <td>6783</td>\n",
       "      <td>32845</td>\n",
       "    </tr>\n",
       "    <tr>\n",
       "      <th>NONE</th>\n",
       "      <td>0</td>\n",
       "      <td>4</td>\n",
       "    </tr>\n",
       "    <tr>\n",
       "      <th>OTHER</th>\n",
       "      <td>4</td>\n",
       "      <td>3</td>\n",
       "    </tr>\n",
       "    <tr>\n",
       "      <th>OWN</th>\n",
       "      <td>1779</td>\n",
       "      <td>6875</td>\n",
       "    </tr>\n",
       "    <tr>\n",
       "      <th>RENT</th>\n",
       "      <td>7402</td>\n",
       "      <td>24286</td>\n",
       "    </tr>\n",
       "  </tbody>\n",
       "</table>\n",
       "</div>"
      ],
      "text/plain": [
       "loan_status     Charged Off  Fully Paid\n",
       "home_ownership                         \n",
       "ANY                       2          17\n",
       "MORTGAGE               6783       32845\n",
       "NONE                      0           4\n",
       "OTHER                     4           3\n",
       "OWN                    1779        6875\n",
       "RENT                   7402       24286"
      ]
     },
     "metadata": {},
     "output_type": "display_data"
    },
    {
     "data": {
      "text/plain": [
       "array([<Axes: ylabel='Charged Off'>, <Axes: ylabel='Fully Paid'>],\n",
       "      dtype=object)"
      ]
     },
     "execution_count": 42,
     "metadata": {},
     "output_type": "execute_result"
    },
    {
     "data": {
      "image/png": "[encoded data removed]",
      "text/plain": [
       "<Figure size 640x480 with 2 Axes>"
      ]
     },
     "metadata": {},
     "output_type": "display_data"
    }
   ],
   "source": [
    "display(pd.crosstab(data['home_ownership'],data['loan_status']))\n",
    "pd.crosstab(data['home_ownership'],data['loan_status']).plot.pie(autopct='%1.1f%%',subplots=True)"
   ]
  },
  {
   "cell_type": "code",
   "execution_count": 43,
   "id": "7bba4f7d",
   "metadata": {},
   "outputs": [
    {
     "name": "stdout",
     "output_type": "stream",
     "text": [
      "<class 'pandas.core.frame.DataFrame'>\n",
      "Int64Index: 100000 entries, 0 to 19999\n",
      "Data columns (total 28 columns):\n",
      " #   Column                Non-Null Count   Dtype  \n",
      "---  ------                --------------   -----  \n",
      " 0   addr_state            100000 non-null  object \n",
      " 1   annual_inc            100000 non-null  float64\n",
      " 2   earliest_cr_line      100000 non-null  object \n",
      " 3   emp_length            94154 non-null   object \n",
      " 4   emp_title             93604 non-null   object \n",
      " 5   fico_range_high       100000 non-null  float64\n",
      " 6   fico_range_low        100000 non-null  float64\n",
      " 7   grade                 100000 non-null  object \n",
      " 8   home_ownership        100000 non-null  object \n",
      " 9   application_type      100000 non-null  object \n",
      " 10  initial_list_status   100000 non-null  object \n",
      " 11  int_rate              100000 non-null  float64\n",
      " 12  loan_amnt             100000 non-null  float64\n",
      " 13  num_actv_bc_tl        95041 non-null   float64\n",
      " 14  mort_acc              96525 non-null   float64\n",
      " 15  tot_cur_bal           95041 non-null   float64\n",
      " 16  open_acc              100000 non-null  float64\n",
      " 17  pub_rec               100000 non-null  float64\n",
      " 18  pub_rec_bankruptcies  99958 non-null   float64\n",
      " 19  purpose               100000 non-null  object \n",
      " 20  revol_bal             100000 non-null  float64\n",
      " 21  revol_util            99934 non-null   float64\n",
      " 22  sub_grade             100000 non-null  object \n",
      " 23  term                  100000 non-null  object \n",
      " 24  title                 98783 non-null   object \n",
      " 25  total_acc             100000 non-null  float64\n",
      " 26  verification_status   100000 non-null  object \n",
      " 27  loan_status           80000 non-null   object \n",
      "dtypes: float64(14), object(14)\n",
      "memory usage: 22.1+ MB\n"
     ]
    }
   ],
   "source": [
    "data.info()"
   ]
  },
  {
   "cell_type": "code",
   "execution_count": 44,
   "id": "f5efb7ba",
   "metadata": {},
   "outputs": [
    {
     "data": {
      "text/plain": [
       "addr_state                  0\n",
       "annual_inc                  0\n",
       "earliest_cr_line            0\n",
       "emp_length               5846\n",
       "emp_title                6396\n",
       "fico_range_high             0\n",
       "fico_range_low              0\n",
       "grade                       0\n",
       "home_ownership              0\n",
       "application_type            0\n",
       "initial_list_status         0\n",
       "int_rate                    0\n",
       "loan_amnt                   0\n",
       "num_actv_bc_tl           4959\n",
       "mort_acc                 3475\n",
       "tot_cur_bal              4959\n",
       "open_acc                    0\n",
       "pub_rec                     0\n",
       "pub_rec_bankruptcies       42\n",
       "purpose                     0\n",
       "revol_bal                   0\n",
       "revol_util                 66\n",
       "sub_grade                   0\n",
       "term                        0\n",
       "title                    1217\n",
       "total_acc                   0\n",
       "verification_status         0\n",
       "loan_status             20000\n",
       "dtype: int64"
      ]
     },
     "execution_count": 44,
     "metadata": {},
     "output_type": "execute_result"
    }
   ],
   "source": [
    "data.isna().sum()"
   ]
  },
  {
   "cell_type": "code",
   "execution_count": 46,
   "id": "e448e421",
   "metadata": {},
   "outputs": [],
   "source": [
    "#Handling missing values in object datatype:\n",
    "\n",
    "data['emp_length'].fillna(data['emp_length'].mode()[0],inplace=True)\n",
    "data['emp_title'].fillna(data['emp_title'].mode()[0],inplace=True)\n",
    "data['title'].fillna(data['title'].mode()[0],inplace=True)"
   ]
  },
  {
   "cell_type": "code",
   "execution_count": null,
   "id": "37e4f33a",
   "metadata": {},
   "outputs": [],
   "source": [
    "#Handling missing values in "
   ]
  },
  {
   "cell_type": "code",
   "execution_count": 47,
   "id": "9488aeed",
   "metadata": {},
   "outputs": [
    {
     "data": {
      "text/plain": [
       "addr_state                 51\n",
       "annual_inc               9060\n",
       "earliest_cr_line          644\n",
       "emp_length                 11\n",
       "emp_title               44316\n",
       "fico_range_high            38\n",
       "fico_range_low             38\n",
       "grade                       7\n",
       "home_ownership              6\n",
       "application_type            2\n",
       "initial_list_status         2\n",
       "int_rate                  561\n",
       "loan_amnt                1397\n",
       "num_actv_bc_tl             28\n",
       "mort_acc                   28\n",
       "tot_cur_bal             79062\n",
       "open_acc                   56\n",
       "pub_rec                    16\n",
       "pub_rec_bankruptcies        9\n",
       "purpose                    14\n",
       "revol_bal               36117\n",
       "revol_util               1091\n",
       "sub_grade                  35\n",
       "term                        2\n",
       "title                    6506\n",
       "total_acc                 110\n",
       "verification_status         3\n",
       "loan_status                 2\n",
       "dtype: int64"
      ]
     },
     "execution_count": 47,
     "metadata": {},
     "output_type": "execute_result"
    }
   ],
   "source": [
    "data.nunique()"
   ]
  },
  {
   "cell_type": "code",
   "execution_count": 48,
   "id": "925ae753",
   "metadata": {},
   "outputs": [
    {
     "name": "stdout",
     "output_type": "stream",
     "text": [
      "emp_length 11 ['10+ years' '3 years' '< 1 year' '1 year' '8 years' '7 years' '4 years'\n",
      " '2 years' '5 years' '6 years' '9 years']\n",
      "grade 7 ['E' 'B' 'F' 'D' 'C' 'A' 'G']\n",
      "home_ownership 6 ['MORTGAGE' 'RENT' 'OWN' 'ANY' 'NONE' 'OTHER']\n",
      "application_type 2 ['Individual' 'Joint App']\n",
      "initial_list_status 2 ['w' 'f']\n",
      "pub_rec 16 [ 0.  1.  2.  3.  6.  4.  5.  8. 10.  7. 13. 11. 24. 15.  9. 12.]\n",
      "pub_rec_bankruptcies 9 [ 0.  1.  2.  3.  5. nan  4.  7.  6.  8.]\n",
      "purpose 14 ['debt_consolidation' 'home_improvement' 'credit_card' 'other'\n",
      " 'small_business' 'medical' 'major_purchase' 'car' 'vacation' 'house'\n",
      " 'moving' 'wedding' 'renewable_energy' 'educational']\n",
      "term 2 [' 60 months' ' 36 months']\n",
      "verification_status 3 ['Source Verified' 'Verified' 'Not Verified']\n",
      "loan_status 2 ['Charged Off' 'Fully Paid' nan]\n"
     ]
    },
    {
     "data": {
      "text/plain": [
       "[None, None, None, None, None, None, None, None, None, None, None]"
      ]
     },
     "execution_count": 48,
     "metadata": {},
     "output_type": "execute_result"
    }
   ],
   "source": [
    "#List comprehension\n",
    "[print(i,data[i].nunique(),data[i].unique())\n",
    "for i in data.columns if data[i].nunique()<20]"
   ]
  },
  {
   "cell_type": "code",
   "execution_count": 52,
   "id": "c77decac",
   "metadata": {},
   "outputs": [],
   "source": [
    "# Pipeline\n",
    "cat_encode = Pipeline(steps=[\n",
    "    ('ohe',OneHotEncoder(handle_unknown='ignore'))\n",
    "])\n",
    "num_encode = Pipeline(steps=[\n",
    "    ('simp',SimpleImputer(strategy='mean')),\n",
    "    ('mms',MinMaxScaler())\n",
    "])"
   ]
  },
  {
   "cell_type": "code",
   "execution_count": 53,
   "id": "71efc617",
   "metadata": {},
   "outputs": [
    {
     "data": {
      "text/plain": [
       "(Pipeline(steps=[('ohe', OneHotEncoder(handle_unknown='ignore'))]),\n",
       " Pipeline(steps=[('simp', SimpleImputer()), ('mms', MinMaxScaler())]))"
      ]
     },
     "execution_count": 53,
     "metadata": {},
     "output_type": "execute_result"
    }
   ],
   "source": [
    "cat_encode, num_encode"
   ]
  },
  {
   "cell_type": "code",
   "execution_count": 54,
   "id": "54fcbeb6",
   "metadata": {},
   "outputs": [],
   "source": [
    "all_cols_link = ColumnTransformer(transformers=[\n",
    "    ('category',cat_encode,cat_cols),\n",
    "    ('numeric',num_encode,num_cols)\n",
    "])"
   ]
  },
  {
   "cell_type": "code",
   "execution_count": 56,
   "id": "585aab51",
   "metadata": {},
   "outputs": [],
   "source": [
    "pipe = Pipeline(steps=[\n",
    "    ('Preprocess',all_cols_link)\n",
    "])"
   ]
  },
  {
   "cell_type": "code",
   "execution_count": 57,
   "id": "9c8b23b9",
   "metadata": {},
   "outputs": [
    {
     "data": {
      "text/html": [
       "<style>#sk-container-id-1 {color: black;}#sk-container-id-1 pre{padding: 0;}#sk-container-id-1 div.sk-toggleable {background-color: white;}#sk-container-id-1 label.sk-toggleable__label {cursor: pointer;display: block;width: 100%;margin-bottom: 0;padding: 0.3em;box-sizing: border-box;text-align: center;}#sk-container-id-1 label.sk-toggleable__label-arrow:before {content: \"▸\";float: left;margin-right: 0.25em;color: #696969;}#sk-container-id-1 label.sk-toggleable__label-arrow:hover:before {color: black;}#sk-container-id-1 div.sk-estimator:hover label.sk-toggleable__label-arrow:before {color: black;}#sk-container-id-1 div.sk-toggleable__content {max-height: 0;max-width: 0;overflow: hidden;text-align: left;background-color: #f0f8ff;}#sk-container-id-1 div.sk-toggleable__content pre {margin: 0.2em;color: black;border-radius: 0.25em;background-color: #f0f8ff;}#sk-container-id-1 input.sk-toggleable__control:checked~div.sk-toggleable__content {max-height: 200px;max-width: 100%;overflow: auto;}#sk-container-id-1 input.sk-toggleable__control:checked~label.sk-toggleable__label-arrow:before {content: \"▾\";}#sk-container-id-1 div.sk-estimator input.sk-toggleable__control:checked~label.sk-toggleable__label {background-color: #d4ebff;}#sk-container-id-1 div.sk-label input.sk-toggleable__control:checked~label.sk-toggleable__label {background-color: #d4ebff;}#sk-container-id-1 input.sk-hidden--visually {border: 0;clip: rect(1px 1px 1px 1px);clip: rect(1px, 1px, 1px, 1px);height: 1px;margin: -1px;overflow: hidden;padding: 0;position: absolute;width: 1px;}#sk-container-id-1 div.sk-estimator {font-family: monospace;background-color: #f0f8ff;border: 1px dotted black;border-radius: 0.25em;box-sizing: border-box;margin-bottom: 0.5em;}#sk-container-id-1 div.sk-estimator:hover {background-color: #d4ebff;}#sk-container-id-1 div.sk-parallel-item::after {content: \"\";width: 100%;border-bottom: 1px solid gray;flex-grow: 1;}#sk-container-id-1 div.sk-label:hover label.sk-toggleable__label {background-color: #d4ebff;}#sk-container-id-1 div.sk-serial::before {content: \"\";position: absolute;border-left: 1px solid gray;box-sizing: border-box;top: 0;bottom: 0;left: 50%;z-index: 0;}#sk-container-id-1 div.sk-serial {display: flex;flex-direction: column;align-items: center;background-color: white;padding-right: 0.2em;padding-left: 0.2em;position: relative;}#sk-container-id-1 div.sk-item {position: relative;z-index: 1;}#sk-container-id-1 div.sk-parallel {display: flex;align-items: stretch;justify-content: center;background-color: white;position: relative;}#sk-container-id-1 div.sk-item::before, #sk-container-id-1 div.sk-parallel-item::before {content: \"\";position: absolute;border-left: 1px solid gray;box-sizing: border-box;top: 0;bottom: 0;left: 50%;z-index: -1;}#sk-container-id-1 div.sk-parallel-item {display: flex;flex-direction: column;z-index: 1;position: relative;background-color: white;}#sk-container-id-1 div.sk-parallel-item:first-child::after {align-self: flex-end;width: 50%;}#sk-container-id-1 div.sk-parallel-item:last-child::after {align-self: flex-start;width: 50%;}#sk-container-id-1 div.sk-parallel-item:only-child::after {width: 0;}#sk-container-id-1 div.sk-dashed-wrapped {border: 1px dashed gray;margin: 0 0.4em 0.5em 0.4em;box-sizing: border-box;padding-bottom: 0.4em;background-color: white;}#sk-container-id-1 div.sk-label label {font-family: monospace;font-weight: bold;display: inline-block;line-height: 1.2em;}#sk-container-id-1 div.sk-label-container {text-align: center;}#sk-container-id-1 div.sk-container {/* jupyter's `normalize.less` sets `[hidden] { display: none; }` but bootstrap.min.css set `[hidden] { display: none !important; }` so we also need the `!important` here to be able to override the default hidden behavior on the sphinx rendered scikit-learn.org. See: https://github.com/scikit-learn/scikit-learn/issues/21755 */display: inline-block !important;position: relative;}#sk-container-id-1 div.sk-text-repr-fallback {display: none;}</style><div id=\"sk-container-id-1\" class=\"sk-top-container\"><div class=\"sk-text-repr-fallback\"><pre>Pipeline(steps=[(&#x27;Preprocess&#x27;,\n",
       "                 ColumnTransformer(transformers=[(&#x27;category&#x27;,\n",
       "                                                  Pipeline(steps=[(&#x27;ohe&#x27;,\n",
       "                                                                   OneHotEncoder(handle_unknown=&#x27;ignore&#x27;))]),\n",
       "                                                  Index([&#x27;addr_state&#x27;, &#x27;earliest_cr_line&#x27;, &#x27;emp_length&#x27;, &#x27;emp_title&#x27;, &#x27;grade&#x27;,\n",
       "       &#x27;home_ownership&#x27;, &#x27;application_type&#x27;, &#x27;initial_list_status&#x27;, &#x27;purpose&#x27;,\n",
       "       &#x27;sub_grade&#x27;, &#x27;term&#x27;, &#x27;title&#x27;, &#x27;verification_status&#x27;],\n",
       "      dtype=&#x27;object&#x27;)),\n",
       "                                                 (&#x27;numeric&#x27;,\n",
       "                                                  Pipeline(steps=[(&#x27;simp&#x27;,\n",
       "                                                                   SimpleImputer()),\n",
       "                                                                  (&#x27;mms&#x27;,\n",
       "                                                                   MinMaxScaler())]),\n",
       "                                                  Index([&#x27;annual_inc&#x27;, &#x27;fico_range_high&#x27;, &#x27;fico_range_low&#x27;, &#x27;int_rate&#x27;,\n",
       "       &#x27;loan_amnt&#x27;, &#x27;num_actv_bc_tl&#x27;, &#x27;mort_acc&#x27;, &#x27;tot_cur_bal&#x27;, &#x27;open_acc&#x27;,\n",
       "       &#x27;pub_rec&#x27;, &#x27;pub_rec_bankruptcies&#x27;, &#x27;revol_bal&#x27;, &#x27;revol_util&#x27;,\n",
       "       &#x27;total_acc&#x27;],\n",
       "      dtype=&#x27;object&#x27;))]))])</pre><b>In a Jupyter environment, please rerun this cell to show the HTML representation or trust the notebook. <br />On GitHub, the HTML representation is unable to render, please try loading this page with nbviewer.org.</b></div><div class=\"sk-container\" hidden><div class=\"sk-item sk-dashed-wrapped\"><div class=\"sk-label-container\"><div class=\"sk-label sk-toggleable\"><input class=\"sk-toggleable__control sk-hidden--visually\" id=\"sk-estimator-id-1\" type=\"checkbox\" ><label for=\"sk-estimator-id-1\" class=\"sk-toggleable__label sk-toggleable__label-arrow\">Pipeline</label><div class=\"sk-toggleable__content\"><pre>Pipeline(steps=[(&#x27;Preprocess&#x27;,\n",
       "                 ColumnTransformer(transformers=[(&#x27;category&#x27;,\n",
       "                                                  Pipeline(steps=[(&#x27;ohe&#x27;,\n",
       "                                                                   OneHotEncoder(handle_unknown=&#x27;ignore&#x27;))]),\n",
       "                                                  Index([&#x27;addr_state&#x27;, &#x27;earliest_cr_line&#x27;, &#x27;emp_length&#x27;, &#x27;emp_title&#x27;, &#x27;grade&#x27;,\n",
       "       &#x27;home_ownership&#x27;, &#x27;application_type&#x27;, &#x27;initial_list_status&#x27;, &#x27;purpose&#x27;,\n",
       "       &#x27;sub_grade&#x27;, &#x27;term&#x27;, &#x27;title&#x27;, &#x27;verification_status&#x27;],\n",
       "      dtype=&#x27;object&#x27;)),\n",
       "                                                 (&#x27;numeric&#x27;,\n",
       "                                                  Pipeline(steps=[(&#x27;simp&#x27;,\n",
       "                                                                   SimpleImputer()),\n",
       "                                                                  (&#x27;mms&#x27;,\n",
       "                                                                   MinMaxScaler())]),\n",
       "                                                  Index([&#x27;annual_inc&#x27;, &#x27;fico_range_high&#x27;, &#x27;fico_range_low&#x27;, &#x27;int_rate&#x27;,\n",
       "       &#x27;loan_amnt&#x27;, &#x27;num_actv_bc_tl&#x27;, &#x27;mort_acc&#x27;, &#x27;tot_cur_bal&#x27;, &#x27;open_acc&#x27;,\n",
       "       &#x27;pub_rec&#x27;, &#x27;pub_rec_bankruptcies&#x27;, &#x27;revol_bal&#x27;, &#x27;revol_util&#x27;,\n",
       "       &#x27;total_acc&#x27;],\n",
       "      dtype=&#x27;object&#x27;))]))])</pre></div></div></div><div class=\"sk-serial\"><div class=\"sk-item sk-dashed-wrapped\"><div class=\"sk-label-container\"><div class=\"sk-label sk-toggleable\"><input class=\"sk-toggleable__control sk-hidden--visually\" id=\"sk-estimator-id-2\" type=\"checkbox\" ><label for=\"sk-estimator-id-2\" class=\"sk-toggleable__label sk-toggleable__label-arrow\">Preprocess: ColumnTransformer</label><div class=\"sk-toggleable__content\"><pre>ColumnTransformer(transformers=[(&#x27;category&#x27;,\n",
       "                                 Pipeline(steps=[(&#x27;ohe&#x27;,\n",
       "                                                  OneHotEncoder(handle_unknown=&#x27;ignore&#x27;))]),\n",
       "                                 Index([&#x27;addr_state&#x27;, &#x27;earliest_cr_line&#x27;, &#x27;emp_length&#x27;, &#x27;emp_title&#x27;, &#x27;grade&#x27;,\n",
       "       &#x27;home_ownership&#x27;, &#x27;application_type&#x27;, &#x27;initial_list_status&#x27;, &#x27;purpose&#x27;,\n",
       "       &#x27;sub_grade&#x27;, &#x27;term&#x27;, &#x27;title&#x27;, &#x27;verification_status&#x27;],\n",
       "      dtype=&#x27;object&#x27;)),\n",
       "                                (&#x27;numeric&#x27;,\n",
       "                                 Pipeline(steps=[(&#x27;simp&#x27;, SimpleImputer()),\n",
       "                                                 (&#x27;mms&#x27;, MinMaxScaler())]),\n",
       "                                 Index([&#x27;annual_inc&#x27;, &#x27;fico_range_high&#x27;, &#x27;fico_range_low&#x27;, &#x27;int_rate&#x27;,\n",
       "       &#x27;loan_amnt&#x27;, &#x27;num_actv_bc_tl&#x27;, &#x27;mort_acc&#x27;, &#x27;tot_cur_bal&#x27;, &#x27;open_acc&#x27;,\n",
       "       &#x27;pub_rec&#x27;, &#x27;pub_rec_bankruptcies&#x27;, &#x27;revol_bal&#x27;, &#x27;revol_util&#x27;,\n",
       "       &#x27;total_acc&#x27;],\n",
       "      dtype=&#x27;object&#x27;))])</pre></div></div></div><div class=\"sk-parallel\"><div class=\"sk-parallel-item\"><div class=\"sk-item\"><div class=\"sk-label-container\"><div class=\"sk-label sk-toggleable\"><input class=\"sk-toggleable__control sk-hidden--visually\" id=\"sk-estimator-id-3\" type=\"checkbox\" ><label for=\"sk-estimator-id-3\" class=\"sk-toggleable__label sk-toggleable__label-arrow\">category</label><div class=\"sk-toggleable__content\"><pre>Index([&#x27;addr_state&#x27;, &#x27;earliest_cr_line&#x27;, &#x27;emp_length&#x27;, &#x27;emp_title&#x27;, &#x27;grade&#x27;,\n",
       "       &#x27;home_ownership&#x27;, &#x27;application_type&#x27;, &#x27;initial_list_status&#x27;, &#x27;purpose&#x27;,\n",
       "       &#x27;sub_grade&#x27;, &#x27;term&#x27;, &#x27;title&#x27;, &#x27;verification_status&#x27;],\n",
       "      dtype=&#x27;object&#x27;)</pre></div></div></div><div class=\"sk-serial\"><div class=\"sk-item\"><div class=\"sk-serial\"><div class=\"sk-item\"><div class=\"sk-estimator sk-toggleable\"><input class=\"sk-toggleable__control sk-hidden--visually\" id=\"sk-estimator-id-4\" type=\"checkbox\" ><label for=\"sk-estimator-id-4\" class=\"sk-toggleable__label sk-toggleable__label-arrow\">OneHotEncoder</label><div class=\"sk-toggleable__content\"><pre>OneHotEncoder(handle_unknown=&#x27;ignore&#x27;)</pre></div></div></div></div></div></div></div></div><div class=\"sk-parallel-item\"><div class=\"sk-item\"><div class=\"sk-label-container\"><div class=\"sk-label sk-toggleable\"><input class=\"sk-toggleable__control sk-hidden--visually\" id=\"sk-estimator-id-5\" type=\"checkbox\" ><label for=\"sk-estimator-id-5\" class=\"sk-toggleable__label sk-toggleable__label-arrow\">numeric</label><div class=\"sk-toggleable__content\"><pre>Index([&#x27;annual_inc&#x27;, &#x27;fico_range_high&#x27;, &#x27;fico_range_low&#x27;, &#x27;int_rate&#x27;,\n",
       "       &#x27;loan_amnt&#x27;, &#x27;num_actv_bc_tl&#x27;, &#x27;mort_acc&#x27;, &#x27;tot_cur_bal&#x27;, &#x27;open_acc&#x27;,\n",
       "       &#x27;pub_rec&#x27;, &#x27;pub_rec_bankruptcies&#x27;, &#x27;revol_bal&#x27;, &#x27;revol_util&#x27;,\n",
       "       &#x27;total_acc&#x27;],\n",
       "      dtype=&#x27;object&#x27;)</pre></div></div></div><div class=\"sk-serial\"><div class=\"sk-item\"><div class=\"sk-serial\"><div class=\"sk-item\"><div class=\"sk-estimator sk-toggleable\"><input class=\"sk-toggleable__control sk-hidden--visually\" id=\"sk-estimator-id-6\" type=\"checkbox\" ><label for=\"sk-estimator-id-6\" class=\"sk-toggleable__label sk-toggleable__label-arrow\">SimpleImputer</label><div class=\"sk-toggleable__content\"><pre>SimpleImputer()</pre></div></div></div><div class=\"sk-item\"><div class=\"sk-estimator sk-toggleable\"><input class=\"sk-toggleable__control sk-hidden--visually\" id=\"sk-estimator-id-7\" type=\"checkbox\" ><label for=\"sk-estimator-id-7\" class=\"sk-toggleable__label sk-toggleable__label-arrow\">MinMaxScaler</label><div class=\"sk-toggleable__content\"><pre>MinMaxScaler()</pre></div></div></div></div></div></div></div></div></div></div></div></div></div></div>"
      ],
      "text/plain": [
       "Pipeline(steps=[('Preprocess',\n",
       "                 ColumnTransformer(transformers=[('category',\n",
       "                                                  Pipeline(steps=[('ohe',\n",
       "                                                                   OneHotEncoder(handle_unknown='ignore'))]),\n",
       "                                                  Index(['addr_state', 'earliest_cr_line', 'emp_length', 'emp_title', 'grade',\n",
       "       'home_ownership', 'application_type', 'initial_list_status', 'purpose',\n",
       "       'sub_grade', 'term', 'title', 'verification_status'],\n",
       "      dtype='object')),\n",
       "                                                 ('numeric',\n",
       "                                                  Pipeline(steps=[('simp',\n",
       "                                                                   SimpleImputer()),\n",
       "                                                                  ('mms',\n",
       "                                                                   MinMaxScaler())]),\n",
       "                                                  Index(['annual_inc', 'fico_range_high', 'fico_range_low', 'int_rate',\n",
       "       'loan_amnt', 'num_actv_bc_tl', 'mort_acc', 'tot_cur_bal', 'open_acc',\n",
       "       'pub_rec', 'pub_rec_bankruptcies', 'revol_bal', 'revol_util',\n",
       "       'total_acc'],\n",
       "      dtype='object'))]))])"
      ]
     },
     "execution_count": 57,
     "metadata": {},
     "output_type": "execute_result"
    }
   ],
   "source": [
    "pipe"
   ]
  },
  {
   "cell_type": "code",
   "execution_count": 58,
   "id": "5e043aef",
   "metadata": {
    "scrolled": false
   },
   "outputs": [
    {
     "data": {
      "text/html": [
       "<style>#sk-container-id-2 {color: black;}#sk-container-id-2 pre{padding: 0;}#sk-container-id-2 div.sk-toggleable {background-color: white;}#sk-container-id-2 label.sk-toggleable__label {cursor: pointer;display: block;width: 100%;margin-bottom: 0;padding: 0.3em;box-sizing: border-box;text-align: center;}#sk-container-id-2 label.sk-toggleable__label-arrow:before {content: \"▸\";float: left;margin-right: 0.25em;color: #696969;}#sk-container-id-2 label.sk-toggleable__label-arrow:hover:before {color: black;}#sk-container-id-2 div.sk-estimator:hover label.sk-toggleable__label-arrow:before {color: black;}#sk-container-id-2 div.sk-toggleable__content {max-height: 0;max-width: 0;overflow: hidden;text-align: left;background-color: #f0f8ff;}#sk-container-id-2 div.sk-toggleable__content pre {margin: 0.2em;color: black;border-radius: 0.25em;background-color: #f0f8ff;}#sk-container-id-2 input.sk-toggleable__control:checked~div.sk-toggleable__content {max-height: 200px;max-width: 100%;overflow: auto;}#sk-container-id-2 input.sk-toggleable__control:checked~label.sk-toggleable__label-arrow:before {content: \"▾\";}#sk-container-id-2 div.sk-estimator input.sk-toggleable__control:checked~label.sk-toggleable__label {background-color: #d4ebff;}#sk-container-id-2 div.sk-label input.sk-toggleable__control:checked~label.sk-toggleable__label {background-color: #d4ebff;}#sk-container-id-2 input.sk-hidden--visually {border: 0;clip: rect(1px 1px 1px 1px);clip: rect(1px, 1px, 1px, 1px);height: 1px;margin: -1px;overflow: hidden;padding: 0;position: absolute;width: 1px;}#sk-container-id-2 div.sk-estimator {font-family: monospace;background-color: #f0f8ff;border: 1px dotted black;border-radius: 0.25em;box-sizing: border-box;margin-bottom: 0.5em;}#sk-container-id-2 div.sk-estimator:hover {background-color: #d4ebff;}#sk-container-id-2 div.sk-parallel-item::after {content: \"\";width: 100%;border-bottom: 1px solid gray;flex-grow: 1;}#sk-container-id-2 div.sk-label:hover label.sk-toggleable__label {background-color: #d4ebff;}#sk-container-id-2 div.sk-serial::before {content: \"\";position: absolute;border-left: 1px solid gray;box-sizing: border-box;top: 0;bottom: 0;left: 50%;z-index: 0;}#sk-container-id-2 div.sk-serial {display: flex;flex-direction: column;align-items: center;background-color: white;padding-right: 0.2em;padding-left: 0.2em;position: relative;}#sk-container-id-2 div.sk-item {position: relative;z-index: 1;}#sk-container-id-2 div.sk-parallel {display: flex;align-items: stretch;justify-content: center;background-color: white;position: relative;}#sk-container-id-2 div.sk-item::before, #sk-container-id-2 div.sk-parallel-item::before {content: \"\";position: absolute;border-left: 1px solid gray;box-sizing: border-box;top: 0;bottom: 0;left: 50%;z-index: -1;}#sk-container-id-2 div.sk-parallel-item {display: flex;flex-direction: column;z-index: 1;position: relative;background-color: white;}#sk-container-id-2 div.sk-parallel-item:first-child::after {align-self: flex-end;width: 50%;}#sk-container-id-2 div.sk-parallel-item:last-child::after {align-self: flex-start;width: 50%;}#sk-container-id-2 div.sk-parallel-item:only-child::after {width: 0;}#sk-container-id-2 div.sk-dashed-wrapped {border: 1px dashed gray;margin: 0 0.4em 0.5em 0.4em;box-sizing: border-box;padding-bottom: 0.4em;background-color: white;}#sk-container-id-2 div.sk-label label {font-family: monospace;font-weight: bold;display: inline-block;line-height: 1.2em;}#sk-container-id-2 div.sk-label-container {text-align: center;}#sk-container-id-2 div.sk-container {/* jupyter's `normalize.less` sets `[hidden] { display: none; }` but bootstrap.min.css set `[hidden] { display: none !important; }` so we also need the `!important` here to be able to override the default hidden behavior on the sphinx rendered scikit-learn.org. See: https://github.com/scikit-learn/scikit-learn/issues/21755 */display: inline-block !important;position: relative;}#sk-container-id-2 div.sk-text-repr-fallback {display: none;}</style><div id=\"sk-container-id-2\" class=\"sk-top-container\"><div class=\"sk-text-repr-fallback\"><pre>Pipeline(steps=[(&#x27;Preprocess&#x27;,\n",
       "                 ColumnTransformer(transformers=[(&#x27;category&#x27;,\n",
       "                                                  Pipeline(steps=[(&#x27;ohe&#x27;,\n",
       "                                                                   OneHotEncoder(handle_unknown=&#x27;ignore&#x27;))]),\n",
       "                                                  Index([&#x27;addr_state&#x27;, &#x27;earliest_cr_line&#x27;, &#x27;emp_length&#x27;, &#x27;emp_title&#x27;, &#x27;grade&#x27;,\n",
       "       &#x27;home_ownership&#x27;, &#x27;application_type&#x27;, &#x27;initial_list_status&#x27;, &#x27;purpose&#x27;,\n",
       "       &#x27;sub_grade&#x27;, &#x27;term&#x27;, &#x27;title&#x27;, &#x27;verification_status&#x27;],\n",
       "      dtype=&#x27;object&#x27;)),\n",
       "                                                 (&#x27;numeric&#x27;,\n",
       "                                                  Pipeline(steps=[(&#x27;simp&#x27;,\n",
       "                                                                   SimpleImputer()),\n",
       "                                                                  (&#x27;mms&#x27;,\n",
       "                                                                   MinMaxScaler())]),\n",
       "                                                  Index([&#x27;annual_inc&#x27;, &#x27;fico_range_high&#x27;, &#x27;fico_range_low&#x27;, &#x27;int_rate&#x27;,\n",
       "       &#x27;loan_amnt&#x27;, &#x27;num_actv_bc_tl&#x27;, &#x27;mort_acc&#x27;, &#x27;tot_cur_bal&#x27;, &#x27;open_acc&#x27;,\n",
       "       &#x27;pub_rec&#x27;, &#x27;pub_rec_bankruptcies&#x27;, &#x27;revol_bal&#x27;, &#x27;revol_util&#x27;,\n",
       "       &#x27;total_acc&#x27;],\n",
       "      dtype=&#x27;object&#x27;))]))])</pre><b>In a Jupyter environment, please rerun this cell to show the HTML representation or trust the notebook. <br />On GitHub, the HTML representation is unable to render, please try loading this page with nbviewer.org.</b></div><div class=\"sk-container\" hidden><div class=\"sk-item sk-dashed-wrapped\"><div class=\"sk-label-container\"><div class=\"sk-label sk-toggleable\"><input class=\"sk-toggleable__control sk-hidden--visually\" id=\"sk-estimator-id-8\" type=\"checkbox\" ><label for=\"sk-estimator-id-8\" class=\"sk-toggleable__label sk-toggleable__label-arrow\">Pipeline</label><div class=\"sk-toggleable__content\"><pre>Pipeline(steps=[(&#x27;Preprocess&#x27;,\n",
       "                 ColumnTransformer(transformers=[(&#x27;category&#x27;,\n",
       "                                                  Pipeline(steps=[(&#x27;ohe&#x27;,\n",
       "                                                                   OneHotEncoder(handle_unknown=&#x27;ignore&#x27;))]),\n",
       "                                                  Index([&#x27;addr_state&#x27;, &#x27;earliest_cr_line&#x27;, &#x27;emp_length&#x27;, &#x27;emp_title&#x27;, &#x27;grade&#x27;,\n",
       "       &#x27;home_ownership&#x27;, &#x27;application_type&#x27;, &#x27;initial_list_status&#x27;, &#x27;purpose&#x27;,\n",
       "       &#x27;sub_grade&#x27;, &#x27;term&#x27;, &#x27;title&#x27;, &#x27;verification_status&#x27;],\n",
       "      dtype=&#x27;object&#x27;)),\n",
       "                                                 (&#x27;numeric&#x27;,\n",
       "                                                  Pipeline(steps=[(&#x27;simp&#x27;,\n",
       "                                                                   SimpleImputer()),\n",
       "                                                                  (&#x27;mms&#x27;,\n",
       "                                                                   MinMaxScaler())]),\n",
       "                                                  Index([&#x27;annual_inc&#x27;, &#x27;fico_range_high&#x27;, &#x27;fico_range_low&#x27;, &#x27;int_rate&#x27;,\n",
       "       &#x27;loan_amnt&#x27;, &#x27;num_actv_bc_tl&#x27;, &#x27;mort_acc&#x27;, &#x27;tot_cur_bal&#x27;, &#x27;open_acc&#x27;,\n",
       "       &#x27;pub_rec&#x27;, &#x27;pub_rec_bankruptcies&#x27;, &#x27;revol_bal&#x27;, &#x27;revol_util&#x27;,\n",
       "       &#x27;total_acc&#x27;],\n",
       "      dtype=&#x27;object&#x27;))]))])</pre></div></div></div><div class=\"sk-serial\"><div class=\"sk-item sk-dashed-wrapped\"><div class=\"sk-label-container\"><div class=\"sk-label sk-toggleable\"><input class=\"sk-toggleable__control sk-hidden--visually\" id=\"sk-estimator-id-9\" type=\"checkbox\" ><label for=\"sk-estimator-id-9\" class=\"sk-toggleable__label sk-toggleable__label-arrow\">Preprocess: ColumnTransformer</label><div class=\"sk-toggleable__content\"><pre>ColumnTransformer(transformers=[(&#x27;category&#x27;,\n",
       "                                 Pipeline(steps=[(&#x27;ohe&#x27;,\n",
       "                                                  OneHotEncoder(handle_unknown=&#x27;ignore&#x27;))]),\n",
       "                                 Index([&#x27;addr_state&#x27;, &#x27;earliest_cr_line&#x27;, &#x27;emp_length&#x27;, &#x27;emp_title&#x27;, &#x27;grade&#x27;,\n",
       "       &#x27;home_ownership&#x27;, &#x27;application_type&#x27;, &#x27;initial_list_status&#x27;, &#x27;purpose&#x27;,\n",
       "       &#x27;sub_grade&#x27;, &#x27;term&#x27;, &#x27;title&#x27;, &#x27;verification_status&#x27;],\n",
       "      dtype=&#x27;object&#x27;)),\n",
       "                                (&#x27;numeric&#x27;,\n",
       "                                 Pipeline(steps=[(&#x27;simp&#x27;, SimpleImputer()),\n",
       "                                                 (&#x27;mms&#x27;, MinMaxScaler())]),\n",
       "                                 Index([&#x27;annual_inc&#x27;, &#x27;fico_range_high&#x27;, &#x27;fico_range_low&#x27;, &#x27;int_rate&#x27;,\n",
       "       &#x27;loan_amnt&#x27;, &#x27;num_actv_bc_tl&#x27;, &#x27;mort_acc&#x27;, &#x27;tot_cur_bal&#x27;, &#x27;open_acc&#x27;,\n",
       "       &#x27;pub_rec&#x27;, &#x27;pub_rec_bankruptcies&#x27;, &#x27;revol_bal&#x27;, &#x27;revol_util&#x27;,\n",
       "       &#x27;total_acc&#x27;],\n",
       "      dtype=&#x27;object&#x27;))])</pre></div></div></div><div class=\"sk-parallel\"><div class=\"sk-parallel-item\"><div class=\"sk-item\"><div class=\"sk-label-container\"><div class=\"sk-label sk-toggleable\"><input class=\"sk-toggleable__control sk-hidden--visually\" id=\"sk-estimator-id-10\" type=\"checkbox\" ><label for=\"sk-estimator-id-10\" class=\"sk-toggleable__label sk-toggleable__label-arrow\">category</label><div class=\"sk-toggleable__content\"><pre>Index([&#x27;addr_state&#x27;, &#x27;earliest_cr_line&#x27;, &#x27;emp_length&#x27;, &#x27;emp_title&#x27;, &#x27;grade&#x27;,\n",
       "       &#x27;home_ownership&#x27;, &#x27;application_type&#x27;, &#x27;initial_list_status&#x27;, &#x27;purpose&#x27;,\n",
       "       &#x27;sub_grade&#x27;, &#x27;term&#x27;, &#x27;title&#x27;, &#x27;verification_status&#x27;],\n",
       "      dtype=&#x27;object&#x27;)</pre></div></div></div><div class=\"sk-serial\"><div class=\"sk-item\"><div class=\"sk-serial\"><div class=\"sk-item\"><div class=\"sk-estimator sk-toggleable\"><input class=\"sk-toggleable__control sk-hidden--visually\" id=\"sk-estimator-id-11\" type=\"checkbox\" ><label for=\"sk-estimator-id-11\" class=\"sk-toggleable__label sk-toggleable__label-arrow\">OneHotEncoder</label><div class=\"sk-toggleable__content\"><pre>OneHotEncoder(handle_unknown=&#x27;ignore&#x27;)</pre></div></div></div></div></div></div></div></div><div class=\"sk-parallel-item\"><div class=\"sk-item\"><div class=\"sk-label-container\"><div class=\"sk-label sk-toggleable\"><input class=\"sk-toggleable__control sk-hidden--visually\" id=\"sk-estimator-id-12\" type=\"checkbox\" ><label for=\"sk-estimator-id-12\" class=\"sk-toggleable__label sk-toggleable__label-arrow\">numeric</label><div class=\"sk-toggleable__content\"><pre>Index([&#x27;annual_inc&#x27;, &#x27;fico_range_high&#x27;, &#x27;fico_range_low&#x27;, &#x27;int_rate&#x27;,\n",
       "       &#x27;loan_amnt&#x27;, &#x27;num_actv_bc_tl&#x27;, &#x27;mort_acc&#x27;, &#x27;tot_cur_bal&#x27;, &#x27;open_acc&#x27;,\n",
       "       &#x27;pub_rec&#x27;, &#x27;pub_rec_bankruptcies&#x27;, &#x27;revol_bal&#x27;, &#x27;revol_util&#x27;,\n",
       "       &#x27;total_acc&#x27;],\n",
       "      dtype=&#x27;object&#x27;)</pre></div></div></div><div class=\"sk-serial\"><div class=\"sk-item\"><div class=\"sk-serial\"><div class=\"sk-item\"><div class=\"sk-estimator sk-toggleable\"><input class=\"sk-toggleable__control sk-hidden--visually\" id=\"sk-estimator-id-13\" type=\"checkbox\" ><label for=\"sk-estimator-id-13\" class=\"sk-toggleable__label sk-toggleable__label-arrow\">SimpleImputer</label><div class=\"sk-toggleable__content\"><pre>SimpleImputer()</pre></div></div></div><div class=\"sk-item\"><div class=\"sk-estimator sk-toggleable\"><input class=\"sk-toggleable__control sk-hidden--visually\" id=\"sk-estimator-id-14\" type=\"checkbox\" ><label for=\"sk-estimator-id-14\" class=\"sk-toggleable__label sk-toggleable__label-arrow\">MinMaxScaler</label><div class=\"sk-toggleable__content\"><pre>MinMaxScaler()</pre></div></div></div></div></div></div></div></div></div></div></div></div></div></div>"
      ],
      "text/plain": [
       "Pipeline(steps=[('Preprocess',\n",
       "                 ColumnTransformer(transformers=[('category',\n",
       "                                                  Pipeline(steps=[('ohe',\n",
       "                                                                   OneHotEncoder(handle_unknown='ignore'))]),\n",
       "                                                  Index(['addr_state', 'earliest_cr_line', 'emp_length', 'emp_title', 'grade',\n",
       "       'home_ownership', 'application_type', 'initial_list_status', 'purpose',\n",
       "       'sub_grade', 'term', 'title', 'verification_status'],\n",
       "      dtype='object')),\n",
       "                                                 ('numeric',\n",
       "                                                  Pipeline(steps=[('simp',\n",
       "                                                                   SimpleImputer()),\n",
       "                                                                  ('mms',\n",
       "                                                                   MinMaxScaler())]),\n",
       "                                                  Index(['annual_inc', 'fico_range_high', 'fico_range_low', 'int_rate',\n",
       "       'loan_amnt', 'num_actv_bc_tl', 'mort_acc', 'tot_cur_bal', 'open_acc',\n",
       "       'pub_rec', 'pub_rec_bankruptcies', 'revol_bal', 'revol_util',\n",
       "       'total_acc'],\n",
       "      dtype='object'))]))])"
      ]
     },
     "execution_count": 58,
     "metadata": {},
     "output_type": "execute_result"
    }
   ],
   "source": [
    "pipe.fit(data.drop(columns='loan_status'))"
   ]
  },
  {
   "cell_type": "code",
   "execution_count": 61,
   "id": "0dfe1c8a",
   "metadata": {},
   "outputs": [
    {
     "data": {
      "text/plain": [
       "['preprocess_enc.pkl']"
      ]
     },
     "execution_count": 61,
     "metadata": {},
     "output_type": "execute_result"
    }
   ],
   "source": [
    "# saving the pipeline\n",
    "joblib.dump(pipe,'preprocess_enc.pkl')"
   ]
  },
  {
   "cell_type": "markdown",
   "id": "9d5b13ff",
   "metadata": {},
   "source": [
    "# Add the model"
   ]
  },
  {
   "cell_type": "code",
   "execution_count": 67,
   "id": "4aa8813b",
   "metadata": {},
   "outputs": [
    {
     "name": "stdout",
     "output_type": "stream",
     "text": [
      "Collecting xgboost\n",
      "  Downloading xgboost-2.0.0-py3-none-win_amd64.whl (99.7 MB)\n",
      "     ---------------------------------------- 99.7/99.7 MB 9.4 MB/s eta 0:00:00\n",
      "Requirement already satisfied: scipy in c:\\users\\yamin\\anaconda3\\lib\\site-packages (from xgboost) (1.10.0)\n",
      "Requirement already satisfied: numpy in c:\\users\\yamin\\anaconda3\\lib\\site-packages (from xgboost) (1.23.5)\n",
      "Installing collected packages: xgboost\n",
      "Successfully installed xgboost-2.0.0\n"
     ]
    }
   ],
   "source": [
    "!pip install xgboost"
   ]
  },
  {
   "cell_type": "code",
   "execution_count": 79,
   "id": "6be11772",
   "metadata": {},
   "outputs": [],
   "source": [
    "X = data.drop(columns='loan_status')\n",
    "y = data[['loan_status']]"
   ]
  },
  {
   "cell_type": "code",
   "execution_count": 80,
   "id": "474133d5",
   "metadata": {},
   "outputs": [
    {
     "data": {
      "text/plain": [
       "loan_status\n",
       "Fully Paid     64030\n",
       "Charged Off    15970\n",
       "dtype: int64"
      ]
     },
     "execution_count": 80,
     "metadata": {},
     "output_type": "execute_result"
    }
   ],
   "source": [
    "y.value_counts()"
   ]
  },
  {
   "cell_type": "code",
   "execution_count": 91,
   "id": "fbf56ef9",
   "metadata": {},
   "outputs": [],
   "source": [
    "y = y.replace({'Fully Paid':0,'Charged Off':1})"
   ]
  },
  {
   "cell_type": "code",
   "execution_count": 92,
   "id": "96ab82cc",
   "metadata": {},
   "outputs": [],
   "source": [
    "train_X, test_X, train_y, test_y = train_test_split(X,y, test_size=0.2,random_state=20)"
   ]
  },
  {
   "cell_type": "code",
   "execution_count": 93,
   "id": "04d2c3e2",
   "metadata": {},
   "outputs": [
    {
     "data": {
      "text/plain": [
       "((80000, 27), (20000, 27), (80000, 1), (20000, 1))"
      ]
     },
     "execution_count": 93,
     "metadata": {},
     "output_type": "execute_result"
    }
   ],
   "source": [
    "train_X.shape, test_X.shape, train_y.shape, test_y.shape"
   ]
  },
  {
   "cell_type": "code",
   "execution_count": 94,
   "id": "810d2f87",
   "metadata": {},
   "outputs": [],
   "source": [
    "pipe_lr = Pipeline([\n",
    "    ('Preprocess',all_cols_link),\n",
    "    ('LR',LogisticRegression())\n",
    "])\n",
    "\n",
    "pipe_knn = Pipeline([\n",
    "    ('Preprocess',all_cols_link),\n",
    "    ('KNN',KNeighborsClassifier())\n",
    "])\n",
    "\n",
    "pipe_rf = Pipeline([\n",
    "    ('Preprocess',all_cols_link),\n",
    "    ('RF',RandomForestClassifier())\n",
    "])"
   ]
  },
  {
   "cell_type": "code",
   "execution_count": 95,
   "id": "7cdb3a46",
   "metadata": {},
   "outputs": [],
   "source": [
    "grid_param_lr = [{'lr__penalty':['l2']}]\n",
    "grid_param_knn = [{'knn__n_neighbors':[10,15]}]\n",
    "grid_param_rf = [{'rf__max_depth':[5,10]}]"
   ]
  },
  {
   "cell_type": "code",
   "execution_count": 96,
   "id": "58294a1a",
   "metadata": {},
   "outputs": [],
   "source": [
    "#GridSearchCV\n",
    "gridsrc_lr = GridSearchCV(pipe_lr, param_grid=grid_param_lr, scoring='neg_log_loss',cv=2)\n",
    "gridsrc_knn = GridSearchCV(pipe_knn, param_grid=grid_param_knn, scoring='neg_log_loss',cv=2)\n",
    "gridsrc_rf = GridSearchCV(pipe_rf, param_grid=grid_param_rf, scoring='neg_log_loss',cv=2)"
   ]
  },
  {
   "cell_type": "code",
   "execution_count": 97,
   "id": "3a290c6c",
   "metadata": {},
   "outputs": [
    {
     "ename": "TypeError",
     "evalue": "'<' not supported between instances of 'float' and 'str'",
     "output_type": "error",
     "traceback": [
      "\u001b[1;31m---------------------------------------------------------------------------\u001b[0m",
      "\u001b[1;31mTypeError\u001b[0m                                 Traceback (most recent call last)",
      "Cell \u001b[1;32mIn[97], line 8\u001b[0m\n\u001b[0;32m      5\u001b[0m mdl_idx \u001b[38;5;241m=\u001b[39m {\u001b[38;5;241m0\u001b[39m:\u001b[38;5;124m'\u001b[39m\u001b[38;5;124mLog_reg\u001b[39m\u001b[38;5;124m'\u001b[39m,\u001b[38;5;241m1\u001b[39m:\u001b[38;5;124m'\u001b[39m\u001b[38;5;124mKnn\u001b[39m\u001b[38;5;124m'\u001b[39m,\u001b[38;5;241m2\u001b[39m:\u001b[38;5;124m'\u001b[39m\u001b[38;5;124mRandomForest\u001b[39m\u001b[38;5;124m'\u001b[39m}\n\u001b[0;32m      7\u001b[0m \u001b[38;5;28;01mfor\u001b[39;00m \u001b[38;5;28mid\u001b[39m,model \u001b[38;5;129;01min\u001b[39;00m \u001b[38;5;28menumerate\u001b[39m(iter_mdl):\n\u001b[1;32m----> 8\u001b[0m     \u001b[43mmodel\u001b[49m\u001b[38;5;241;43m.\u001b[39;49m\u001b[43mfit\u001b[49m\u001b[43m(\u001b[49m\u001b[43mtrain_X\u001b[49m\u001b[43m,\u001b[49m\u001b[43m \u001b[49m\u001b[43mtrain_y\u001b[49m\u001b[43m)\u001b[49m\n\u001b[0;32m      9\u001b[0m     \u001b[38;5;28mprint\u001b[39m(model\u001b[38;5;241m.\u001b[39mbest_params_)\n\u001b[0;32m     10\u001b[0m     \u001b[38;5;28mprint\u001b[39m(model\u001b[38;5;241m.\u001b[39mbest_score_)\n",
      "File \u001b[1;32m~\\anaconda3\\lib\\site-packages\\sklearn\\base.py:1151\u001b[0m, in \u001b[0;36m_fit_context.<locals>.decorator.<locals>.wrapper\u001b[1;34m(estimator, *args, **kwargs)\u001b[0m\n\u001b[0;32m   1144\u001b[0m     estimator\u001b[38;5;241m.\u001b[39m_validate_params()\n\u001b[0;32m   1146\u001b[0m \u001b[38;5;28;01mwith\u001b[39;00m config_context(\n\u001b[0;32m   1147\u001b[0m     skip_parameter_validation\u001b[38;5;241m=\u001b[39m(\n\u001b[0;32m   1148\u001b[0m         prefer_skip_nested_validation \u001b[38;5;129;01mor\u001b[39;00m global_skip_validation\n\u001b[0;32m   1149\u001b[0m     )\n\u001b[0;32m   1150\u001b[0m ):\n\u001b[1;32m-> 1151\u001b[0m     \u001b[38;5;28;01mreturn\u001b[39;00m fit_method(estimator, \u001b[38;5;241m*\u001b[39margs, \u001b[38;5;241m*\u001b[39m\u001b[38;5;241m*\u001b[39mkwargs)\n",
      "File \u001b[1;32m~\\anaconda3\\lib\\site-packages\\sklearn\\model_selection\\_search.py:809\u001b[0m, in \u001b[0;36mBaseSearchCV.fit\u001b[1;34m(self, X, y, groups, **fit_params)\u001b[0m\n\u001b[0;32m    806\u001b[0m X, y, groups \u001b[38;5;241m=\u001b[39m indexable(X, y, groups)\n\u001b[0;32m    807\u001b[0m fit_params \u001b[38;5;241m=\u001b[39m _check_fit_params(X, fit_params)\n\u001b[1;32m--> 809\u001b[0m cv_orig \u001b[38;5;241m=\u001b[39m \u001b[43mcheck_cv\u001b[49m\u001b[43m(\u001b[49m\u001b[38;5;28;43mself\u001b[39;49m\u001b[38;5;241;43m.\u001b[39;49m\u001b[43mcv\u001b[49m\u001b[43m,\u001b[49m\u001b[43m \u001b[49m\u001b[43my\u001b[49m\u001b[43m,\u001b[49m\u001b[43m \u001b[49m\u001b[43mclassifier\u001b[49m\u001b[38;5;241;43m=\u001b[39;49m\u001b[43mis_classifier\u001b[49m\u001b[43m(\u001b[49m\u001b[43mestimator\u001b[49m\u001b[43m)\u001b[49m\u001b[43m)\u001b[49m\n\u001b[0;32m    810\u001b[0m n_splits \u001b[38;5;241m=\u001b[39m cv_orig\u001b[38;5;241m.\u001b[39mget_n_splits(X, y, groups)\n\u001b[0;32m    812\u001b[0m base_estimator \u001b[38;5;241m=\u001b[39m clone(\u001b[38;5;28mself\u001b[39m\u001b[38;5;241m.\u001b[39mestimator)\n",
      "File \u001b[1;32m~\\anaconda3\\lib\\site-packages\\sklearn\\model_selection\\_split.py:2482\u001b[0m, in \u001b[0;36mcheck_cv\u001b[1;34m(cv, y, classifier)\u001b[0m\n\u001b[0;32m   2477\u001b[0m cv \u001b[38;5;241m=\u001b[39m \u001b[38;5;241m5\u001b[39m \u001b[38;5;28;01mif\u001b[39;00m cv \u001b[38;5;129;01mis\u001b[39;00m \u001b[38;5;28;01mNone\u001b[39;00m \u001b[38;5;28;01melse\u001b[39;00m cv\n\u001b[0;32m   2478\u001b[0m \u001b[38;5;28;01mif\u001b[39;00m \u001b[38;5;28misinstance\u001b[39m(cv, numbers\u001b[38;5;241m.\u001b[39mIntegral):\n\u001b[0;32m   2479\u001b[0m     \u001b[38;5;28;01mif\u001b[39;00m (\n\u001b[0;32m   2480\u001b[0m         classifier\n\u001b[0;32m   2481\u001b[0m         \u001b[38;5;129;01mand\u001b[39;00m (y \u001b[38;5;129;01mis\u001b[39;00m \u001b[38;5;129;01mnot\u001b[39;00m \u001b[38;5;28;01mNone\u001b[39;00m)\n\u001b[1;32m-> 2482\u001b[0m         \u001b[38;5;129;01mand\u001b[39;00m (\u001b[43mtype_of_target\u001b[49m\u001b[43m(\u001b[49m\u001b[43my\u001b[49m\u001b[43m,\u001b[49m\u001b[43m \u001b[49m\u001b[43minput_name\u001b[49m\u001b[38;5;241;43m=\u001b[39;49m\u001b[38;5;124;43m\"\u001b[39;49m\u001b[38;5;124;43my\u001b[39;49m\u001b[38;5;124;43m\"\u001b[39;49m\u001b[43m)\u001b[49m \u001b[38;5;129;01min\u001b[39;00m (\u001b[38;5;124m\"\u001b[39m\u001b[38;5;124mbinary\u001b[39m\u001b[38;5;124m\"\u001b[39m, \u001b[38;5;124m\"\u001b[39m\u001b[38;5;124mmulticlass\u001b[39m\u001b[38;5;124m\"\u001b[39m))\n\u001b[0;32m   2483\u001b[0m     ):\n\u001b[0;32m   2484\u001b[0m         \u001b[38;5;28;01mreturn\u001b[39;00m StratifiedKFold(cv)\n\u001b[0;32m   2485\u001b[0m     \u001b[38;5;28;01melse\u001b[39;00m:\n",
      "File \u001b[1;32m~\\anaconda3\\lib\\site-packages\\sklearn\\utils\\multiclass.py:387\u001b[0m, in \u001b[0;36mtype_of_target\u001b[1;34m(y, input_name)\u001b[0m\n\u001b[0;32m    385\u001b[0m \u001b[38;5;66;03m# Check multiclass\u001b[39;00m\n\u001b[0;32m    386\u001b[0m first_row \u001b[38;5;241m=\u001b[39m y[\u001b[38;5;241m0\u001b[39m] \u001b[38;5;28;01mif\u001b[39;00m \u001b[38;5;129;01mnot\u001b[39;00m issparse(y) \u001b[38;5;28;01melse\u001b[39;00m y\u001b[38;5;241m.\u001b[39mgetrow(\u001b[38;5;241m0\u001b[39m)\u001b[38;5;241m.\u001b[39mdata\n\u001b[1;32m--> 387\u001b[0m \u001b[38;5;28;01mif\u001b[39;00m \u001b[43mxp\u001b[49m\u001b[38;5;241;43m.\u001b[39;49m\u001b[43munique_values\u001b[49m\u001b[43m(\u001b[49m\u001b[43my\u001b[49m\u001b[43m)\u001b[49m\u001b[38;5;241m.\u001b[39mshape[\u001b[38;5;241m0\u001b[39m] \u001b[38;5;241m>\u001b[39m \u001b[38;5;241m2\u001b[39m \u001b[38;5;129;01mor\u001b[39;00m (y\u001b[38;5;241m.\u001b[39mndim \u001b[38;5;241m==\u001b[39m \u001b[38;5;241m2\u001b[39m \u001b[38;5;129;01mand\u001b[39;00m \u001b[38;5;28mlen\u001b[39m(first_row) \u001b[38;5;241m>\u001b[39m \u001b[38;5;241m1\u001b[39m):\n\u001b[0;32m    388\u001b[0m     \u001b[38;5;66;03m# [1, 2, 3] or [[1., 2., 3]] or [[1, 2]]\u001b[39;00m\n\u001b[0;32m    389\u001b[0m     \u001b[38;5;28;01mreturn\u001b[39;00m \u001b[38;5;124m\"\u001b[39m\u001b[38;5;124mmulticlass\u001b[39m\u001b[38;5;124m\"\u001b[39m \u001b[38;5;241m+\u001b[39m suffix\n\u001b[0;32m    390\u001b[0m \u001b[38;5;28;01melse\u001b[39;00m:\n",
      "File \u001b[1;32m~\\anaconda3\\lib\\site-packages\\sklearn\\utils\\_array_api.py:262\u001b[0m, in \u001b[0;36m_NumPyAPIWrapper.unique_values\u001b[1;34m(self, x)\u001b[0m\n\u001b[0;32m    261\u001b[0m \u001b[38;5;28;01mdef\u001b[39;00m \u001b[38;5;21munique_values\u001b[39m(\u001b[38;5;28mself\u001b[39m, x):\n\u001b[1;32m--> 262\u001b[0m     \u001b[38;5;28;01mreturn\u001b[39;00m \u001b[43mnumpy\u001b[49m\u001b[38;5;241;43m.\u001b[39;49m\u001b[43munique\u001b[49m\u001b[43m(\u001b[49m\u001b[43mx\u001b[49m\u001b[43m)\u001b[49m\n",
      "File \u001b[1;32m<__array_function__ internals>:180\u001b[0m, in \u001b[0;36munique\u001b[1;34m(*args, **kwargs)\u001b[0m\n",
      "File \u001b[1;32m~\\anaconda3\\lib\\site-packages\\numpy\\lib\\arraysetops.py:274\u001b[0m, in \u001b[0;36munique\u001b[1;34m(ar, return_index, return_inverse, return_counts, axis, equal_nan)\u001b[0m\n\u001b[0;32m    272\u001b[0m ar \u001b[38;5;241m=\u001b[39m np\u001b[38;5;241m.\u001b[39masanyarray(ar)\n\u001b[0;32m    273\u001b[0m \u001b[38;5;28;01mif\u001b[39;00m axis \u001b[38;5;129;01mis\u001b[39;00m \u001b[38;5;28;01mNone\u001b[39;00m:\n\u001b[1;32m--> 274\u001b[0m     ret \u001b[38;5;241m=\u001b[39m \u001b[43m_unique1d\u001b[49m\u001b[43m(\u001b[49m\u001b[43mar\u001b[49m\u001b[43m,\u001b[49m\u001b[43m \u001b[49m\u001b[43mreturn_index\u001b[49m\u001b[43m,\u001b[49m\u001b[43m \u001b[49m\u001b[43mreturn_inverse\u001b[49m\u001b[43m,\u001b[49m\u001b[43m \u001b[49m\u001b[43mreturn_counts\u001b[49m\u001b[43m,\u001b[49m\u001b[43m \u001b[49m\n\u001b[0;32m    275\u001b[0m \u001b[43m                    \u001b[49m\u001b[43mequal_nan\u001b[49m\u001b[38;5;241;43m=\u001b[39;49m\u001b[43mequal_nan\u001b[49m\u001b[43m)\u001b[49m\n\u001b[0;32m    276\u001b[0m     \u001b[38;5;28;01mreturn\u001b[39;00m _unpack_tuple(ret)\n\u001b[0;32m    278\u001b[0m \u001b[38;5;66;03m# axis was specified and not None\u001b[39;00m\n",
      "File \u001b[1;32m~\\anaconda3\\lib\\site-packages\\numpy\\lib\\arraysetops.py:336\u001b[0m, in \u001b[0;36m_unique1d\u001b[1;34m(ar, return_index, return_inverse, return_counts, equal_nan)\u001b[0m\n\u001b[0;32m    334\u001b[0m     aux \u001b[38;5;241m=\u001b[39m ar[perm]\n\u001b[0;32m    335\u001b[0m \u001b[38;5;28;01melse\u001b[39;00m:\n\u001b[1;32m--> 336\u001b[0m     \u001b[43mar\u001b[49m\u001b[38;5;241;43m.\u001b[39;49m\u001b[43msort\u001b[49m\u001b[43m(\u001b[49m\u001b[43m)\u001b[49m\n\u001b[0;32m    337\u001b[0m     aux \u001b[38;5;241m=\u001b[39m ar\n\u001b[0;32m    338\u001b[0m mask \u001b[38;5;241m=\u001b[39m np\u001b[38;5;241m.\u001b[39mempty(aux\u001b[38;5;241m.\u001b[39mshape, dtype\u001b[38;5;241m=\u001b[39mnp\u001b[38;5;241m.\u001b[39mbool_)\n",
      "\u001b[1;31mTypeError\u001b[0m: '<' not supported between instances of 'float' and 'str'"
     ]
    }
   ],
   "source": [
    "#running every above model\n",
    "result_acc = {}\n",
    "models = []\n",
    "iter_mdl = [gridsrc_lr,gridsrc_knn,gridsrc_rf]\n",
    "mdl_idx = {0:'Log_reg',1:'Knn',2:'RandomForest'}\n",
    "\n",
    "for id,model in enumerate(iter_mdl):\n",
    "    model.fit(train_X, train_y)\n",
    "    print(model.best_params_)\n",
    "    print(model.best_score_)\n",
    "\n",
    "    models.append(model.best_estimator_)\n",
    "    result_acc[id] = model.best_score_"
   ]
  },
  {
   "cell_type": "code",
   "execution_count": null,
   "id": "c94ccaca",
   "metadata": {},
   "outputs": [],
   "source": []
  }
 ],
 "metadata": {
  "kernelspec": {
   "display_name": "Python 3 (ipykernel)",
   "language": "python",
   "name": "python3"
  },
  "language_info": {
   "codemirror_mode": {
    "name": "ipython",
    "version": 3
   },
   "file_extension": ".py",
   "mimetype": "text/x-python",
   "name": "python",
   "nbconvert_exporter": "python",
   "pygments_lexer": "ipython3",
   "version": "3.10.9"
  }
 },
 "nbformat": 4,
 "nbformat_minor": 5
}
