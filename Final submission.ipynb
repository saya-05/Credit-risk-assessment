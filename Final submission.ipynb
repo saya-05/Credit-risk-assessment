{
 "cells": [
  {
   "cell_type": "code",
   "execution_count": 1,
   "id": "7971de59",
   "metadata": {},
   "outputs": [],
   "source": [
    "#Load the libraries\n",
    "import pandas as pd\n",
    "import numpy as np\n",
    "\n",
    "#visualization\n",
    "import seaborn as sns\n",
    "import matplotlib.pyplot as plt\n",
    "\n",
    "import warnings\n",
    "warnings.filterwarnings('ignore')\n",
    "%matplotlib inline"
   ]
  },
  {
   "cell_type": "code",
   "execution_count": 2,
   "id": "2b1c40b3",
   "metadata": {},
   "outputs": [],
   "source": [
    "#read the files\n",
    "train = pd.read_csv('train_loan_data.csv')\n",
    "test = pd.read_csv('test_loan_data.csv')\n",
    "result = pd.read_csv('test_results.csv')"
   ]
  },
  {
   "cell_type": "code",
   "execution_count": 3,
   "id": "86351c51",
   "metadata": {},
   "outputs": [
    {
     "data": {
      "text/plain": [
       "((80000, 28), (20000, 27), (20000, 1))"
      ]
     },
     "execution_count": 3,
     "metadata": {},
     "output_type": "execute_result"
    }
   ],
   "source": [
    "train.shape, test.shape, result.shape"
   ]
  },
  {
   "cell_type": "code",
   "execution_count": 4,
   "id": "af5801bb",
   "metadata": {},
   "outputs": [
    {
     "name": "stdout",
     "output_type": "stream",
     "text": [
      "<class 'pandas.core.frame.DataFrame'>\n",
      "RangeIndex: 80000 entries, 0 to 79999\n",
      "Data columns (total 28 columns):\n",
      " #   Column                Non-Null Count  Dtype  \n",
      "---  ------                --------------  -----  \n",
      " 0   addr_state            80000 non-null  object \n",
      " 1   annual_inc            80000 non-null  float64\n",
      " 2   earliest_cr_line      80000 non-null  object \n",
      " 3   emp_length            75412 non-null  object \n",
      " 4   emp_title             74982 non-null  object \n",
      " 5   fico_range_high       80000 non-null  float64\n",
      " 6   fico_range_low        80000 non-null  float64\n",
      " 7   grade                 80000 non-null  object \n",
      " 8   home_ownership        80000 non-null  object \n",
      " 9   application_type      80000 non-null  object \n",
      " 10  initial_list_status   80000 non-null  object \n",
      " 11  int_rate              80000 non-null  float64\n",
      " 12  loan_amnt             80000 non-null  float64\n",
      " 13  num_actv_bc_tl        76052 non-null  float64\n",
      " 14  mort_acc              77229 non-null  float64\n",
      " 15  tot_cur_bal           76052 non-null  float64\n",
      " 16  open_acc              80000 non-null  float64\n",
      " 17  pub_rec               80000 non-null  float64\n",
      " 18  pub_rec_bankruptcies  79969 non-null  float64\n",
      " 19  purpose               80000 non-null  object \n",
      " 20  revol_bal             80000 non-null  float64\n",
      " 21  revol_util            79947 non-null  float64\n",
      " 22  sub_grade             80000 non-null  object \n",
      " 23  term                  80000 non-null  object \n",
      " 24  title                 79030 non-null  object \n",
      " 25  total_acc             80000 non-null  float64\n",
      " 26  verification_status   80000 non-null  object \n",
      " 27  loan_status           80000 non-null  object \n",
      "dtypes: float64(14), object(14)\n",
      "memory usage: 17.1+ MB\n",
      "<class 'pandas.core.frame.DataFrame'>\n",
      "RangeIndex: 20000 entries, 0 to 19999\n",
      "Data columns (total 27 columns):\n",
      " #   Column                Non-Null Count  Dtype  \n",
      "---  ------                --------------  -----  \n",
      " 0   addr_state            20000 non-null  object \n",
      " 1   annual_inc            20000 non-null  float64\n",
      " 2   earliest_cr_line      20000 non-null  object \n",
      " 3   emp_length            18742 non-null  object \n",
      " 4   emp_title             18622 non-null  object \n",
      " 5   fico_range_high       20000 non-null  float64\n",
      " 6   fico_range_low        20000 non-null  float64\n",
      " 7   grade                 20000 non-null  object \n",
      " 8   home_ownership        20000 non-null  object \n",
      " 9   application_type      20000 non-null  object \n",
      " 10  initial_list_status   20000 non-null  object \n",
      " 11  int_rate              20000 non-null  float64\n",
      " 12  loan_amnt             20000 non-null  float64\n",
      " 13  num_actv_bc_tl        18989 non-null  float64\n",
      " 14  mort_acc              19296 non-null  float64\n",
      " 15  tot_cur_bal           18989 non-null  float64\n",
      " 16  open_acc              20000 non-null  float64\n",
      " 17  pub_rec               20000 non-null  float64\n",
      " 18  pub_rec_bankruptcies  19989 non-null  float64\n",
      " 19  purpose               20000 non-null  object \n",
      " 20  revol_bal             20000 non-null  float64\n",
      " 21  revol_util            19987 non-null  float64\n",
      " 22  sub_grade             20000 non-null  object \n",
      " 23  term                  20000 non-null  object \n",
      " 24  title                 19753 non-null  object \n",
      " 25  total_acc             20000 non-null  float64\n",
      " 26  verification_status   20000 non-null  object \n",
      "dtypes: float64(14), object(13)\n",
      "memory usage: 4.1+ MB\n",
      "<class 'pandas.core.frame.DataFrame'>\n",
      "RangeIndex: 20000 entries, 0 to 19999\n",
      "Data columns (total 1 columns):\n",
      " #   Column       Non-Null Count  Dtype \n",
      "---  ------       --------------  ----- \n",
      " 0   loan_status  20000 non-null  object\n",
      "dtypes: object(1)\n",
      "memory usage: 156.4+ KB\n"
     ]
    },
    {
     "data": {
      "text/plain": [
       "(None, None, None)"
      ]
     },
     "execution_count": 4,
     "metadata": {},
     "output_type": "execute_result"
    }
   ],
   "source": [
    "train.info(), test.info(), result.info()"
   ]
  },
  {
   "cell_type": "code",
   "execution_count": 5,
   "id": "9afba9bd",
   "metadata": {},
   "outputs": [
    {
     "data": {
      "text/html": [
       "<div>\n",
       "<style scoped>\n",
       "    .dataframe tbody tr th:only-of-type {\n",
       "        vertical-align: middle;\n",
       "    }\n",
       "\n",
       "    .dataframe tbody tr th {\n",
       "        vertical-align: top;\n",
       "    }\n",
       "\n",
       "    .dataframe thead th {\n",
       "        text-align: right;\n",
       "    }\n",
       "</style>\n",
       "<table border=\"1\" class=\"dataframe\">\n",
       "  <thead>\n",
       "    <tr style=\"text-align: right;\">\n",
       "      <th></th>\n",
       "      <th>addr_state</th>\n",
       "      <th>annual_inc</th>\n",
       "      <th>earliest_cr_line</th>\n",
       "      <th>emp_length</th>\n",
       "      <th>emp_title</th>\n",
       "      <th>fico_range_high</th>\n",
       "      <th>fico_range_low</th>\n",
       "      <th>grade</th>\n",
       "      <th>home_ownership</th>\n",
       "      <th>application_type</th>\n",
       "      <th>...</th>\n",
       "      <th>pub_rec_bankruptcies</th>\n",
       "      <th>purpose</th>\n",
       "      <th>revol_bal</th>\n",
       "      <th>revol_util</th>\n",
       "      <th>sub_grade</th>\n",
       "      <th>term</th>\n",
       "      <th>title</th>\n",
       "      <th>total_acc</th>\n",
       "      <th>verification_status</th>\n",
       "      <th>loan_status</th>\n",
       "    </tr>\n",
       "  </thead>\n",
       "  <tbody>\n",
       "    <tr>\n",
       "      <th>0</th>\n",
       "      <td>CO</td>\n",
       "      <td>85000.0</td>\n",
       "      <td>Jul-1997</td>\n",
       "      <td>10+ years</td>\n",
       "      <td>Deputy</td>\n",
       "      <td>744.0</td>\n",
       "      <td>740.0</td>\n",
       "      <td>E</td>\n",
       "      <td>MORTGAGE</td>\n",
       "      <td>Individual</td>\n",
       "      <td>...</td>\n",
       "      <td>0.0</td>\n",
       "      <td>debt_consolidation</td>\n",
       "      <td>5338.0</td>\n",
       "      <td>93.6</td>\n",
       "      <td>E1</td>\n",
       "      <td>60 months</td>\n",
       "      <td>Debt consolidation</td>\n",
       "      <td>8.0</td>\n",
       "      <td>Source Verified</td>\n",
       "      <td>Charged Off</td>\n",
       "    </tr>\n",
       "    <tr>\n",
       "      <th>1</th>\n",
       "      <td>CA</td>\n",
       "      <td>40000.0</td>\n",
       "      <td>Apr-1987</td>\n",
       "      <td>10+ years</td>\n",
       "      <td>Department of Veterans Affairs</td>\n",
       "      <td>724.0</td>\n",
       "      <td>720.0</td>\n",
       "      <td>B</td>\n",
       "      <td>RENT</td>\n",
       "      <td>Individual</td>\n",
       "      <td>...</td>\n",
       "      <td>0.0</td>\n",
       "      <td>debt_consolidation</td>\n",
       "      <td>19944.0</td>\n",
       "      <td>60.3</td>\n",
       "      <td>B1</td>\n",
       "      <td>36 months</td>\n",
       "      <td>Credit Loan</td>\n",
       "      <td>12.0</td>\n",
       "      <td>Verified</td>\n",
       "      <td>Fully Paid</td>\n",
       "    </tr>\n",
       "  </tbody>\n",
       "</table>\n",
       "<p>2 rows × 28 columns</p>\n",
       "</div>"
      ],
      "text/plain": [
       "  addr_state  annual_inc earliest_cr_line emp_length  \\\n",
       "0         CO     85000.0         Jul-1997  10+ years   \n",
       "1         CA     40000.0         Apr-1987  10+ years   \n",
       "\n",
       "                        emp_title  fico_range_high  fico_range_low grade  \\\n",
       "0                          Deputy            744.0           740.0     E   \n",
       "1  Department of Veterans Affairs            724.0           720.0     B   \n",
       "\n",
       "  home_ownership application_type  ... pub_rec_bankruptcies  \\\n",
       "0       MORTGAGE       Individual  ...                  0.0   \n",
       "1           RENT       Individual  ...                  0.0   \n",
       "\n",
       "              purpose  revol_bal  revol_util  sub_grade        term  \\\n",
       "0  debt_consolidation     5338.0        93.6         E1   60 months   \n",
       "1  debt_consolidation    19944.0        60.3         B1   36 months   \n",
       "\n",
       "                title  total_acc  verification_status  loan_status  \n",
       "0  Debt consolidation        8.0      Source Verified  Charged Off  \n",
       "1         Credit Loan       12.0             Verified   Fully Paid  \n",
       "\n",
       "[2 rows x 28 columns]"
      ]
     },
     "metadata": {},
     "output_type": "display_data"
    },
    {
     "data": {
      "text/html": [
       "<div>\n",
       "<style scoped>\n",
       "    .dataframe tbody tr th:only-of-type {\n",
       "        vertical-align: middle;\n",
       "    }\n",
       "\n",
       "    .dataframe tbody tr th {\n",
       "        vertical-align: top;\n",
       "    }\n",
       "\n",
       "    .dataframe thead th {\n",
       "        text-align: right;\n",
       "    }\n",
       "</style>\n",
       "<table border=\"1\" class=\"dataframe\">\n",
       "  <thead>\n",
       "    <tr style=\"text-align: right;\">\n",
       "      <th></th>\n",
       "      <th>addr_state</th>\n",
       "      <th>annual_inc</th>\n",
       "      <th>earliest_cr_line</th>\n",
       "      <th>emp_length</th>\n",
       "      <th>emp_title</th>\n",
       "      <th>fico_range_high</th>\n",
       "      <th>fico_range_low</th>\n",
       "      <th>grade</th>\n",
       "      <th>home_ownership</th>\n",
       "      <th>application_type</th>\n",
       "      <th>...</th>\n",
       "      <th>pub_rec</th>\n",
       "      <th>pub_rec_bankruptcies</th>\n",
       "      <th>purpose</th>\n",
       "      <th>revol_bal</th>\n",
       "      <th>revol_util</th>\n",
       "      <th>sub_grade</th>\n",
       "      <th>term</th>\n",
       "      <th>title</th>\n",
       "      <th>total_acc</th>\n",
       "      <th>verification_status</th>\n",
       "    </tr>\n",
       "  </thead>\n",
       "  <tbody>\n",
       "    <tr>\n",
       "      <th>0</th>\n",
       "      <td>MO</td>\n",
       "      <td>50000.0</td>\n",
       "      <td>May-2012</td>\n",
       "      <td>1 year</td>\n",
       "      <td>Tower technician</td>\n",
       "      <td>719.0</td>\n",
       "      <td>715.0</td>\n",
       "      <td>C</td>\n",
       "      <td>OWN</td>\n",
       "      <td>Individual</td>\n",
       "      <td>...</td>\n",
       "      <td>0.0</td>\n",
       "      <td>0.0</td>\n",
       "      <td>debt_consolidation</td>\n",
       "      <td>2568.0</td>\n",
       "      <td>9.8</td>\n",
       "      <td>C4</td>\n",
       "      <td>36 months</td>\n",
       "      <td>Debt consolidation</td>\n",
       "      <td>11.0</td>\n",
       "      <td>Source Verified</td>\n",
       "    </tr>\n",
       "    <tr>\n",
       "      <th>1</th>\n",
       "      <td>HI</td>\n",
       "      <td>92000.0</td>\n",
       "      <td>Dec-2001</td>\n",
       "      <td>10+ years</td>\n",
       "      <td>Supervisor</td>\n",
       "      <td>684.0</td>\n",
       "      <td>680.0</td>\n",
       "      <td>B</td>\n",
       "      <td>RENT</td>\n",
       "      <td>Individual</td>\n",
       "      <td>...</td>\n",
       "      <td>0.0</td>\n",
       "      <td>0.0</td>\n",
       "      <td>debt_consolidation</td>\n",
       "      <td>30394.0</td>\n",
       "      <td>75.4</td>\n",
       "      <td>B2</td>\n",
       "      <td>36 months</td>\n",
       "      <td>Debt consolidation</td>\n",
       "      <td>35.0</td>\n",
       "      <td>Source Verified</td>\n",
       "    </tr>\n",
       "  </tbody>\n",
       "</table>\n",
       "<p>2 rows × 27 columns</p>\n",
       "</div>"
      ],
      "text/plain": [
       "  addr_state  annual_inc earliest_cr_line emp_length         emp_title  \\\n",
       "0         MO     50000.0         May-2012     1 year  Tower technician   \n",
       "1         HI     92000.0         Dec-2001  10+ years        Supervisor   \n",
       "\n",
       "   fico_range_high  fico_range_low grade home_ownership application_type  ...  \\\n",
       "0            719.0           715.0     C            OWN       Individual  ...   \n",
       "1            684.0           680.0     B           RENT       Individual  ...   \n",
       "\n",
       "  pub_rec  pub_rec_bankruptcies             purpose  revol_bal  revol_util  \\\n",
       "0     0.0                   0.0  debt_consolidation     2568.0         9.8   \n",
       "1     0.0                   0.0  debt_consolidation    30394.0        75.4   \n",
       "\n",
       "   sub_grade        term               title  total_acc verification_status  \n",
       "0         C4   36 months  Debt consolidation       11.0     Source Verified  \n",
       "1         B2   36 months  Debt consolidation       35.0     Source Verified  \n",
       "\n",
       "[2 rows x 27 columns]"
      ]
     },
     "metadata": {},
     "output_type": "display_data"
    },
    {
     "data": {
      "text/html": [
       "<div>\n",
       "<style scoped>\n",
       "    .dataframe tbody tr th:only-of-type {\n",
       "        vertical-align: middle;\n",
       "    }\n",
       "\n",
       "    .dataframe tbody tr th {\n",
       "        vertical-align: top;\n",
       "    }\n",
       "\n",
       "    .dataframe thead th {\n",
       "        text-align: right;\n",
       "    }\n",
       "</style>\n",
       "<table border=\"1\" class=\"dataframe\">\n",
       "  <thead>\n",
       "    <tr style=\"text-align: right;\">\n",
       "      <th></th>\n",
       "      <th>loan_status</th>\n",
       "    </tr>\n",
       "  </thead>\n",
       "  <tbody>\n",
       "    <tr>\n",
       "      <th>0</th>\n",
       "      <td>Fully Paid</td>\n",
       "    </tr>\n",
       "    <tr>\n",
       "      <th>1</th>\n",
       "      <td>Fully Paid</td>\n",
       "    </tr>\n",
       "  </tbody>\n",
       "</table>\n",
       "</div>"
      ],
      "text/plain": [
       "  loan_status\n",
       "0  Fully Paid\n",
       "1  Fully Paid"
      ]
     },
     "metadata": {},
     "output_type": "display_data"
    }
   ],
   "source": [
    "display(train.head(2), test.head(2),result.head(2))"
   ]
  },
  {
   "cell_type": "markdown",
   "id": "66cb0af7",
   "metadata": {},
   "source": [
    "## EDA and Preprocessing"
   ]
  },
  {
   "cell_type": "code",
   "execution_count": 6,
   "id": "50c0e761",
   "metadata": {},
   "outputs": [
    {
     "data": {
      "text/plain": [
       "(0, 0)"
      ]
     },
     "execution_count": 6,
     "metadata": {},
     "output_type": "execute_result"
    }
   ],
   "source": [
    "train.duplicated().sum(), test.duplicated().sum()"
   ]
  },
  {
   "cell_type": "code",
   "execution_count": 7,
   "id": "e822abbb",
   "metadata": {},
   "outputs": [
    {
     "data": {
      "text/plain": [
       "(100000, 28)"
      ]
     },
     "execution_count": 7,
     "metadata": {},
     "output_type": "execute_result"
    }
   ],
   "source": [
    "data = pd.concat([train,test])\n",
    "data.shape"
   ]
  },
  {
   "cell_type": "code",
   "execution_count": 8,
   "id": "36f636c8",
   "metadata": {},
   "outputs": [
    {
     "data": {
      "text/plain": [
       "Index(['addr_state', 'annual_inc', 'earliest_cr_line', 'emp_length',\n",
       "       'emp_title', 'fico_range_high', 'fico_range_low', 'grade',\n",
       "       'home_ownership', 'application_type', 'initial_list_status', 'int_rate',\n",
       "       'loan_amnt', 'num_actv_bc_tl', 'mort_acc', 'tot_cur_bal', 'open_acc',\n",
       "       'pub_rec', 'pub_rec_bankruptcies', 'purpose', 'revol_bal', 'revol_util',\n",
       "       'sub_grade', 'term', 'title', 'total_acc', 'verification_status',\n",
       "       'loan_status'],\n",
       "      dtype='object')"
      ]
     },
     "execution_count": 8,
     "metadata": {},
     "output_type": "execute_result"
    }
   ],
   "source": [
    "data.columns"
   ]
  },
  {
   "cell_type": "code",
   "execution_count": 9,
   "id": "41c3d493",
   "metadata": {},
   "outputs": [
    {
     "data": {
      "text/html": [
       "<div>\n",
       "<style scoped>\n",
       "    .dataframe tbody tr th:only-of-type {\n",
       "        vertical-align: middle;\n",
       "    }\n",
       "\n",
       "    .dataframe tbody tr th {\n",
       "        vertical-align: top;\n",
       "    }\n",
       "\n",
       "    .dataframe thead th {\n",
       "        text-align: right;\n",
       "    }\n",
       "</style>\n",
       "<table border=\"1\" class=\"dataframe\">\n",
       "  <thead>\n",
       "    <tr style=\"text-align: right;\">\n",
       "      <th></th>\n",
       "      <th>addr_state</th>\n",
       "      <th>annual_inc</th>\n",
       "      <th>earliest_cr_line</th>\n",
       "      <th>emp_length</th>\n",
       "      <th>emp_title</th>\n",
       "      <th>fico_range_high</th>\n",
       "      <th>fico_range_low</th>\n",
       "      <th>grade</th>\n",
       "      <th>home_ownership</th>\n",
       "      <th>application_type</th>\n",
       "      <th>...</th>\n",
       "      <th>pub_rec_bankruptcies</th>\n",
       "      <th>purpose</th>\n",
       "      <th>revol_bal</th>\n",
       "      <th>revol_util</th>\n",
       "      <th>sub_grade</th>\n",
       "      <th>term</th>\n",
       "      <th>title</th>\n",
       "      <th>total_acc</th>\n",
       "      <th>verification_status</th>\n",
       "      <th>loan_status</th>\n",
       "    </tr>\n",
       "  </thead>\n",
       "  <tbody>\n",
       "    <tr>\n",
       "      <th>0</th>\n",
       "      <td>CO</td>\n",
       "      <td>85000.0</td>\n",
       "      <td>Jul-1997</td>\n",
       "      <td>10+ years</td>\n",
       "      <td>Deputy</td>\n",
       "      <td>744.0</td>\n",
       "      <td>740.0</td>\n",
       "      <td>E</td>\n",
       "      <td>MORTGAGE</td>\n",
       "      <td>Individual</td>\n",
       "      <td>...</td>\n",
       "      <td>0.0</td>\n",
       "      <td>debt_consolidation</td>\n",
       "      <td>5338.0</td>\n",
       "      <td>93.6</td>\n",
       "      <td>E1</td>\n",
       "      <td>60 months</td>\n",
       "      <td>Debt consolidation</td>\n",
       "      <td>8.0</td>\n",
       "      <td>Source Verified</td>\n",
       "      <td>Charged Off</td>\n",
       "    </tr>\n",
       "    <tr>\n",
       "      <th>1</th>\n",
       "      <td>CA</td>\n",
       "      <td>40000.0</td>\n",
       "      <td>Apr-1987</td>\n",
       "      <td>10+ years</td>\n",
       "      <td>Department of Veterans Affairs</td>\n",
       "      <td>724.0</td>\n",
       "      <td>720.0</td>\n",
       "      <td>B</td>\n",
       "      <td>RENT</td>\n",
       "      <td>Individual</td>\n",
       "      <td>...</td>\n",
       "      <td>0.0</td>\n",
       "      <td>debt_consolidation</td>\n",
       "      <td>19944.0</td>\n",
       "      <td>60.3</td>\n",
       "      <td>B1</td>\n",
       "      <td>36 months</td>\n",
       "      <td>Credit Loan</td>\n",
       "      <td>12.0</td>\n",
       "      <td>Verified</td>\n",
       "      <td>Fully Paid</td>\n",
       "    </tr>\n",
       "  </tbody>\n",
       "</table>\n",
       "<p>2 rows × 28 columns</p>\n",
       "</div>"
      ],
      "text/plain": [
       "  addr_state  annual_inc earliest_cr_line emp_length  \\\n",
       "0         CO     85000.0         Jul-1997  10+ years   \n",
       "1         CA     40000.0         Apr-1987  10+ years   \n",
       "\n",
       "                        emp_title  fico_range_high  fico_range_low grade  \\\n",
       "0                          Deputy            744.0           740.0     E   \n",
       "1  Department of Veterans Affairs            724.0           720.0     B   \n",
       "\n",
       "  home_ownership application_type  ... pub_rec_bankruptcies  \\\n",
       "0       MORTGAGE       Individual  ...                  0.0   \n",
       "1           RENT       Individual  ...                  0.0   \n",
       "\n",
       "              purpose  revol_bal  revol_util  sub_grade        term  \\\n",
       "0  debt_consolidation     5338.0        93.6         E1   60 months   \n",
       "1  debt_consolidation    19944.0        60.3         B1   36 months   \n",
       "\n",
       "                title  total_acc  verification_status  loan_status  \n",
       "0  Debt consolidation        8.0      Source Verified  Charged Off  \n",
       "1         Credit Loan       12.0             Verified   Fully Paid  \n",
       "\n",
       "[2 rows x 28 columns]"
      ]
     },
     "execution_count": 9,
     "metadata": {},
     "output_type": "execute_result"
    }
   ],
   "source": [
    "data.head(2)"
   ]
  },
  {
   "cell_type": "code",
   "execution_count": 10,
   "id": "3f782ff8",
   "metadata": {},
   "outputs": [
    {
     "name": "stdout",
     "output_type": "stream",
     "text": [
      "<class 'pandas.core.frame.DataFrame'>\n",
      "Int64Index: 100000 entries, 0 to 19999\n",
      "Data columns (total 28 columns):\n",
      " #   Column                Non-Null Count   Dtype  \n",
      "---  ------                --------------   -----  \n",
      " 0   addr_state            100000 non-null  object \n",
      " 1   annual_inc            100000 non-null  float64\n",
      " 2   earliest_cr_line      100000 non-null  object \n",
      " 3   emp_length            94154 non-null   object \n",
      " 4   emp_title             93604 non-null   object \n",
      " 5   fico_range_high       100000 non-null  float64\n",
      " 6   fico_range_low        100000 non-null  float64\n",
      " 7   grade                 100000 non-null  object \n",
      " 8   home_ownership        100000 non-null  object \n",
      " 9   application_type      100000 non-null  object \n",
      " 10  initial_list_status   100000 non-null  object \n",
      " 11  int_rate              100000 non-null  float64\n",
      " 12  loan_amnt             100000 non-null  float64\n",
      " 13  num_actv_bc_tl        95041 non-null   float64\n",
      " 14  mort_acc              96525 non-null   float64\n",
      " 15  tot_cur_bal           95041 non-null   float64\n",
      " 16  open_acc              100000 non-null  float64\n",
      " 17  pub_rec               100000 non-null  float64\n",
      " 18  pub_rec_bankruptcies  99958 non-null   float64\n",
      " 19  purpose               100000 non-null  object \n",
      " 20  revol_bal             100000 non-null  float64\n",
      " 21  revol_util            99934 non-null   float64\n",
      " 22  sub_grade             100000 non-null  object \n",
      " 23  term                  100000 non-null  object \n",
      " 24  title                 98783 non-null   object \n",
      " 25  total_acc             100000 non-null  float64\n",
      " 26  verification_status   100000 non-null  object \n",
      " 27  loan_status           80000 non-null   object \n",
      "dtypes: float64(14), object(14)\n",
      "memory usage: 22.1+ MB\n"
     ]
    }
   ],
   "source": [
    "data.info()"
   ]
  },
  {
   "cell_type": "code",
   "execution_count": 11,
   "id": "40badc19",
   "metadata": {},
   "outputs": [],
   "source": [
    "data.drop_duplicates(inplace = True)"
   ]
  },
  {
   "cell_type": "code",
   "execution_count": 12,
   "id": "35eaf3d5",
   "metadata": {},
   "outputs": [
    {
     "data": {
      "text/plain": [
       "addr_state                  0\n",
       "annual_inc                  0\n",
       "earliest_cr_line            0\n",
       "emp_length               5846\n",
       "emp_title                6396\n",
       "fico_range_high             0\n",
       "fico_range_low              0\n",
       "grade                       0\n",
       "home_ownership              0\n",
       "application_type            0\n",
       "initial_list_status         0\n",
       "int_rate                    0\n",
       "loan_amnt                   0\n",
       "num_actv_bc_tl           4959\n",
       "mort_acc                 3475\n",
       "tot_cur_bal              4959\n",
       "open_acc                    0\n",
       "pub_rec                     0\n",
       "pub_rec_bankruptcies       42\n",
       "purpose                     0\n",
       "revol_bal                   0\n",
       "revol_util                 66\n",
       "sub_grade                   0\n",
       "term                        0\n",
       "title                    1217\n",
       "total_acc                   0\n",
       "verification_status         0\n",
       "loan_status             20000\n",
       "dtype: int64"
      ]
     },
     "execution_count": 12,
     "metadata": {},
     "output_type": "execute_result"
    }
   ],
   "source": [
    "data.isna().sum()"
   ]
  },
  {
   "cell_type": "code",
   "execution_count": 13,
   "id": "b15826bd",
   "metadata": {},
   "outputs": [
    {
     "data": {
      "text/plain": [
       "array(['CO', 'CA', 'FL', 'IL', 'MD', 'NY', 'PA', 'WI', 'UT', 'TX', 'AL',\n",
       "       'KS', 'AR', 'AZ', 'MI', 'MN', 'LA', 'HI', 'NC', 'VT', 'OK', 'KY',\n",
       "       'ME', 'CT', 'AK', 'NJ', 'IN', 'GA', 'MA', 'OR', 'NM', 'VA', 'TN',\n",
       "       'SC', 'NV', 'WY', 'WA', 'WV', 'MO', 'OH', 'MS', 'DC', 'NE', 'ID',\n",
       "       'NH', 'RI', 'SD', 'MT', 'DE', 'ND', 'IA'], dtype=object)"
      ]
     },
     "execution_count": 13,
     "metadata": {},
     "output_type": "execute_result"
    }
   ],
   "source": [
    "data['addr_state'].unique() #no feature can be extracted"
   ]
  },
  {
   "cell_type": "code",
   "execution_count": 14,
   "id": "d87183d0",
   "metadata": {},
   "outputs": [],
   "source": [
    "#extract year and month\n",
    "data['year'] = pd.DatetimeIndex(data['earliest_cr_line']).year\n",
    "data['month'] = pd.DatetimeIndex(data['earliest_cr_line']).month"
   ]
  },
  {
   "cell_type": "code",
   "execution_count": 15,
   "id": "e3bde9a9",
   "metadata": {},
   "outputs": [
    {
     "data": {
      "text/plain": [
       "array(['10+ years', nan, '3 years', '< 1 year', '1 year', '8 years',\n",
       "       '7 years', '4 years', '2 years', '5 years', '6 years', '9 years'],\n",
       "      dtype=object)"
      ]
     },
     "execution_count": 15,
     "metadata": {},
     "output_type": "execute_result"
    }
   ],
   "source": [
    "data['emp_length'].unique()"
   ]
  },
  {
   "cell_type": "code",
   "execution_count": 16,
   "id": "e0011a50",
   "metadata": {},
   "outputs": [],
   "source": [
    "data.dropna(subset = 'emp_length', inplace = True)"
   ]
  },
  {
   "cell_type": "code",
   "execution_count": 17,
   "id": "1502f875",
   "metadata": {},
   "outputs": [],
   "source": [
    "#replacing so that we get only specific employment length\n",
    "data['employment_years'] = data['emp_length'].replace({'< 1 year':'Entry level','1 year':'Entry level','2 years':'Entry level','3 years':'Entry level','4 years':'Mid-senior level','5 years':'Mid-senior level','6 years':'Mid-senior level','7 years':'Mid-senior level','8 years':'Mid-senior level','9 years':'Director level','10+ years':'Director level'})"
   ]
  },
  {
   "cell_type": "code",
   "execution_count": 18,
   "id": "da568827",
   "metadata": {},
   "outputs": [
    {
     "data": {
      "text/plain": [
       "array(['Deputy', 'Department of Veterans Affairs', 'Marble polishing',\n",
       "       ..., 'lighting coordinator', 'Contract & Compliance Manager',\n",
       "       'rv technician'], dtype=object)"
      ]
     },
     "execution_count": 18,
     "metadata": {},
     "output_type": "execute_result"
    }
   ],
   "source": [
    "data['emp_title'].unique()"
   ]
  },
  {
   "cell_type": "code",
   "execution_count": 19,
   "id": "58cfde27",
   "metadata": {},
   "outputs": [],
   "source": [
    "data['emp_title'] = data['emp_title'].fillna(data['emp_title'].mode()[0])"
   ]
  },
  {
   "cell_type": "code",
   "execution_count": 20,
   "id": "872bcef3",
   "metadata": {},
   "outputs": [
    {
     "data": {
      "text/plain": [
       "array(['E', 'B', 'F', 'C', 'D', 'A', 'G'], dtype=object)"
      ]
     },
     "execution_count": 20,
     "metadata": {},
     "output_type": "execute_result"
    }
   ],
   "source": [
    "data['grade'].unique()"
   ]
  },
  {
   "cell_type": "code",
   "execution_count": 21,
   "id": "5699519f",
   "metadata": {},
   "outputs": [
    {
     "data": {
      "text/plain": [
       "array(['MORTGAGE', 'RENT', 'OWN', 'ANY', 'NONE', 'OTHER'], dtype=object)"
      ]
     },
     "execution_count": 21,
     "metadata": {},
     "output_type": "execute_result"
    }
   ],
   "source": [
    "data['home_ownership'].unique()"
   ]
  },
  {
   "cell_type": "code",
   "execution_count": 22,
   "id": "19685a96",
   "metadata": {},
   "outputs": [
    {
     "data": {
      "text/plain": [
       "MORTGAGE    46813\n",
       "RENT        37699\n",
       "OWN          9611\n",
       "ANY            21\n",
       "OTHER           6\n",
       "NONE            4\n",
       "Name: home_ownership, dtype: int64"
      ]
     },
     "execution_count": 22,
     "metadata": {},
     "output_type": "execute_result"
    }
   ],
   "source": [
    "data['home_ownership'].value_counts()"
   ]
  },
  {
   "cell_type": "code",
   "execution_count": 23,
   "id": "71531a12",
   "metadata": {},
   "outputs": [],
   "source": [
    "data = data.drop(data[data['home_ownership'] == 'NONE'].index) #removing undefined "
   ]
  },
  {
   "cell_type": "code",
   "execution_count": 24,
   "id": "c446af1c",
   "metadata": {},
   "outputs": [],
   "source": [
    "data['home_ownership'].replace({'ANY':'OTHER'},inplace = True)"
   ]
  },
  {
   "cell_type": "code",
   "execution_count": 25,
   "id": "3a64e342",
   "metadata": {},
   "outputs": [
    {
     "data": {
      "text/plain": [
       "array(['Individual', 'Joint App'], dtype=object)"
      ]
     },
     "execution_count": 25,
     "metadata": {},
     "output_type": "execute_result"
    }
   ],
   "source": [
    "data['application_type'].unique()"
   ]
  },
  {
   "cell_type": "code",
   "execution_count": 26,
   "id": "41652c5d",
   "metadata": {},
   "outputs": [
    {
     "data": {
      "text/plain": [
       "array(['w', 'f'], dtype=object)"
      ]
     },
     "execution_count": 26,
     "metadata": {},
     "output_type": "execute_result"
    }
   ],
   "source": [
    "data['initial_list_status'].unique()"
   ]
  },
  {
   "cell_type": "code",
   "execution_count": 27,
   "id": "23cee4b8",
   "metadata": {},
   "outputs": [
    {
     "data": {
      "text/plain": [
       "array(['debt_consolidation', 'credit_card', 'other', 'home_improvement',\n",
       "       'small_business', 'medical', 'major_purchase', 'car', 'vacation',\n",
       "       'house', 'moving', 'wedding', 'renewable_energy', 'educational'],\n",
       "      dtype=object)"
      ]
     },
     "execution_count": 27,
     "metadata": {},
     "output_type": "execute_result"
    }
   ],
   "source": [
    "data['purpose'].unique()"
   ]
  },
  {
   "cell_type": "code",
   "execution_count": 28,
   "id": "aecc1d41",
   "metadata": {},
   "outputs": [
    {
     "data": {
      "text/plain": [
       "array(['E1', 'B1', 'B5', 'B2', 'F5', 'C1', 'C4', 'D4', 'B4', 'A5', 'C3',\n",
       "       'C2', 'E4', 'F3', 'E2', 'A1', 'C5', 'B3', 'E5', 'A4', 'D2', 'F2',\n",
       "       'A2', 'A3', 'D3', 'F1', 'D5', 'D1', 'E3', 'G2', 'F4', 'G1', 'G3',\n",
       "       'G4', 'G5'], dtype=object)"
      ]
     },
     "execution_count": 28,
     "metadata": {},
     "output_type": "execute_result"
    }
   ],
   "source": [
    "data['sub_grade'].unique()"
   ]
  },
  {
   "cell_type": "code",
   "execution_count": 29,
   "id": "93f23c66",
   "metadata": {},
   "outputs": [
    {
     "data": {
      "text/plain": [
       "array([' 60 months', ' 36 months'], dtype=object)"
      ]
     },
     "execution_count": 29,
     "metadata": {},
     "output_type": "execute_result"
    }
   ],
   "source": [
    "data['term'].unique()"
   ]
  },
  {
   "cell_type": "code",
   "execution_count": 30,
   "id": "d0f13202",
   "metadata": {},
   "outputs": [
    {
     "data": {
      "text/plain": [
       "array(['Debt consolidation', 'Credit Loan', 'Debt Connsolidation', ...,\n",
       "       'Car Refinance', 'Consolidation Home Improvement', 'Repurpose'],\n",
       "      dtype=object)"
      ]
     },
     "execution_count": 30,
     "metadata": {},
     "output_type": "execute_result"
    }
   ],
   "source": [
    "data['title'].unique()"
   ]
  },
  {
   "cell_type": "code",
   "execution_count": 31,
   "id": "656e4165",
   "metadata": {},
   "outputs": [],
   "source": [
    "data['title'] = data['title'].fillna(data['title'].mode()[0])"
   ]
  },
  {
   "cell_type": "code",
   "execution_count": 32,
   "id": "63e6b6df",
   "metadata": {},
   "outputs": [
    {
     "data": {
      "text/plain": [
       "array(['Source Verified', 'Verified', 'Not Verified'], dtype=object)"
      ]
     },
     "execution_count": 32,
     "metadata": {},
     "output_type": "execute_result"
    }
   ],
   "source": [
    "data['verification_status'].unique()"
   ]
  },
  {
   "cell_type": "code",
   "execution_count": 33,
   "id": "1d735f11",
   "metadata": {},
   "outputs": [
    {
     "data": {
      "text/plain": [
       "array(['Charged Off', 'Fully Paid', nan], dtype=object)"
      ]
     },
     "execution_count": 33,
     "metadata": {},
     "output_type": "execute_result"
    }
   ],
   "source": [
    "data['loan_status'].unique()"
   ]
  },
  {
   "cell_type": "code",
   "execution_count": 34,
   "id": "4749a34f",
   "metadata": {
    "scrolled": false
   },
   "outputs": [
    {
     "data": {
      "text/html": [
       "<div>\n",
       "<style scoped>\n",
       "    .dataframe tbody tr th:only-of-type {\n",
       "        vertical-align: middle;\n",
       "    }\n",
       "\n",
       "    .dataframe tbody tr th {\n",
       "        vertical-align: top;\n",
       "    }\n",
       "\n",
       "    .dataframe thead th {\n",
       "        text-align: right;\n",
       "    }\n",
       "</style>\n",
       "<table border=\"1\" class=\"dataframe\">\n",
       "  <thead>\n",
       "    <tr style=\"text-align: right;\">\n",
       "      <th></th>\n",
       "      <th>addr_state</th>\n",
       "      <th>annual_inc</th>\n",
       "      <th>earliest_cr_line</th>\n",
       "      <th>emp_length</th>\n",
       "      <th>emp_title</th>\n",
       "      <th>fico_range_high</th>\n",
       "      <th>fico_range_low</th>\n",
       "      <th>grade</th>\n",
       "      <th>home_ownership</th>\n",
       "      <th>application_type</th>\n",
       "      <th>...</th>\n",
       "      <th>revol_util</th>\n",
       "      <th>sub_grade</th>\n",
       "      <th>term</th>\n",
       "      <th>title</th>\n",
       "      <th>total_acc</th>\n",
       "      <th>verification_status</th>\n",
       "      <th>loan_status</th>\n",
       "      <th>year</th>\n",
       "      <th>month</th>\n",
       "      <th>employment_years</th>\n",
       "    </tr>\n",
       "  </thead>\n",
       "  <tbody>\n",
       "    <tr>\n",
       "      <th>0</th>\n",
       "      <td>CO</td>\n",
       "      <td>85000.0</td>\n",
       "      <td>Jul-1997</td>\n",
       "      <td>10+ years</td>\n",
       "      <td>Deputy</td>\n",
       "      <td>744.0</td>\n",
       "      <td>740.0</td>\n",
       "      <td>E</td>\n",
       "      <td>MORTGAGE</td>\n",
       "      <td>Individual</td>\n",
       "      <td>...</td>\n",
       "      <td>93.6</td>\n",
       "      <td>E1</td>\n",
       "      <td>60 months</td>\n",
       "      <td>Debt consolidation</td>\n",
       "      <td>8.0</td>\n",
       "      <td>Source Verified</td>\n",
       "      <td>Charged Off</td>\n",
       "      <td>1997</td>\n",
       "      <td>7</td>\n",
       "      <td>Director level</td>\n",
       "    </tr>\n",
       "    <tr>\n",
       "      <th>1</th>\n",
       "      <td>CA</td>\n",
       "      <td>40000.0</td>\n",
       "      <td>Apr-1987</td>\n",
       "      <td>10+ years</td>\n",
       "      <td>Department of Veterans Affairs</td>\n",
       "      <td>724.0</td>\n",
       "      <td>720.0</td>\n",
       "      <td>B</td>\n",
       "      <td>RENT</td>\n",
       "      <td>Individual</td>\n",
       "      <td>...</td>\n",
       "      <td>60.3</td>\n",
       "      <td>B1</td>\n",
       "      <td>36 months</td>\n",
       "      <td>Credit Loan</td>\n",
       "      <td>12.0</td>\n",
       "      <td>Verified</td>\n",
       "      <td>Fully Paid</td>\n",
       "      <td>1987</td>\n",
       "      <td>4</td>\n",
       "      <td>Director level</td>\n",
       "    </tr>\n",
       "  </tbody>\n",
       "</table>\n",
       "<p>2 rows × 31 columns</p>\n",
       "</div>"
      ],
      "text/plain": [
       "  addr_state  annual_inc earliest_cr_line emp_length  \\\n",
       "0         CO     85000.0         Jul-1997  10+ years   \n",
       "1         CA     40000.0         Apr-1987  10+ years   \n",
       "\n",
       "                        emp_title  fico_range_high  fico_range_low grade  \\\n",
       "0                          Deputy            744.0           740.0     E   \n",
       "1  Department of Veterans Affairs            724.0           720.0     B   \n",
       "\n",
       "  home_ownership application_type  ... revol_util  sub_grade        term  \\\n",
       "0       MORTGAGE       Individual  ...       93.6         E1   60 months   \n",
       "1           RENT       Individual  ...       60.3         B1   36 months   \n",
       "\n",
       "                title  total_acc  verification_status  loan_status  year  \\\n",
       "0  Debt consolidation        8.0      Source Verified  Charged Off  1997   \n",
       "1         Credit Loan       12.0             Verified   Fully Paid  1987   \n",
       "\n",
       "   month employment_years  \n",
       "0      7   Director level  \n",
       "1      4   Director level  \n",
       "\n",
       "[2 rows x 31 columns]"
      ]
     },
     "execution_count": 34,
     "metadata": {},
     "output_type": "execute_result"
    }
   ],
   "source": [
    "data.head(2)"
   ]
  },
  {
   "cell_type": "code",
   "execution_count": 35,
   "id": "68a9d583",
   "metadata": {},
   "outputs": [
    {
     "name": "stdout",
     "output_type": "stream",
     "text": [
      "<class 'pandas.core.frame.DataFrame'>\n",
      "Int64Index: 94148 entries, 0 to 19999\n",
      "Data columns (total 31 columns):\n",
      " #   Column                Non-Null Count  Dtype  \n",
      "---  ------                --------------  -----  \n",
      " 0   addr_state            94148 non-null  object \n",
      " 1   annual_inc            94148 non-null  float64\n",
      " 2   earliest_cr_line      94148 non-null  object \n",
      " 3   emp_length            94148 non-null  object \n",
      " 4   emp_title             94148 non-null  object \n",
      " 5   fico_range_high       94148 non-null  float64\n",
      " 6   fico_range_low        94148 non-null  float64\n",
      " 7   grade                 94148 non-null  object \n",
      " 8   home_ownership        94148 non-null  object \n",
      " 9   application_type      94148 non-null  object \n",
      " 10  initial_list_status   94148 non-null  object \n",
      " 11  int_rate              94148 non-null  float64\n",
      " 12  loan_amnt             94148 non-null  float64\n",
      " 13  num_actv_bc_tl        89345 non-null  float64\n",
      " 14  mort_acc              90779 non-null  float64\n",
      " 15  tot_cur_bal           89345 non-null  float64\n",
      " 16  open_acc              94148 non-null  float64\n",
      " 17  pub_rec               94148 non-null  float64\n",
      " 18  pub_rec_bankruptcies  94106 non-null  float64\n",
      " 19  purpose               94148 non-null  object \n",
      " 20  revol_bal             94148 non-null  float64\n",
      " 21  revol_util            94087 non-null  float64\n",
      " 22  sub_grade             94148 non-null  object \n",
      " 23  term                  94148 non-null  object \n",
      " 24  title                 94148 non-null  object \n",
      " 25  total_acc             94148 non-null  float64\n",
      " 26  verification_status   94148 non-null  object \n",
      " 27  loan_status           75408 non-null  object \n",
      " 28  year                  94148 non-null  int64  \n",
      " 29  month                 94148 non-null  int64  \n",
      " 30  employment_years      94148 non-null  object \n",
      "dtypes: float64(14), int64(2), object(15)\n",
      "memory usage: 23.0+ MB\n"
     ]
    }
   ],
   "source": [
    "data.info()"
   ]
  },
  {
   "cell_type": "code",
   "execution_count": 36,
   "id": "b58d5b68",
   "metadata": {},
   "outputs": [
    {
     "data": {
      "text/plain": [
       "Index(['addr_state', 'earliest_cr_line', 'emp_length', 'emp_title', 'grade',\n",
       "       'home_ownership', 'application_type', 'initial_list_status', 'purpose',\n",
       "       'sub_grade', 'term', 'title', 'verification_status', 'loan_status',\n",
       "       'employment_years'],\n",
       "      dtype='object')"
      ]
     },
     "execution_count": 36,
     "metadata": {},
     "output_type": "execute_result"
    }
   ],
   "source": [
    "data.select_dtypes(include=object).columns"
   ]
  },
  {
   "cell_type": "code",
   "execution_count": 38,
   "id": "aaea323c",
   "metadata": {},
   "outputs": [],
   "source": [
    "selected_columns = ['addr_state','employment_years','emp_title','grade','home_ownership','application_type','initial_list_status','purpose','sub_grade','term','verification_status','employment_years']\n",
    "cat_cols = data[selected_columns].copy()"
   ]
  },
  {
   "cell_type": "code",
   "execution_count": 39,
   "id": "a877db93",
   "metadata": {},
   "outputs": [
    {
     "data": {
      "text/html": [
       "<div>\n",
       "<style scoped>\n",
       "    .dataframe tbody tr th:only-of-type {\n",
       "        vertical-align: middle;\n",
       "    }\n",
       "\n",
       "    .dataframe tbody tr th {\n",
       "        vertical-align: top;\n",
       "    }\n",
       "\n",
       "    .dataframe thead th {\n",
       "        text-align: right;\n",
       "    }\n",
       "</style>\n",
       "<table border=\"1\" class=\"dataframe\">\n",
       "  <thead>\n",
       "    <tr style=\"text-align: right;\">\n",
       "      <th></th>\n",
       "      <th>addr_state</th>\n",
       "      <th>employment_years</th>\n",
       "      <th>emp_title</th>\n",
       "      <th>grade</th>\n",
       "      <th>home_ownership</th>\n",
       "      <th>application_type</th>\n",
       "      <th>initial_list_status</th>\n",
       "      <th>purpose</th>\n",
       "      <th>sub_grade</th>\n",
       "      <th>term</th>\n",
       "      <th>verification_status</th>\n",
       "      <th>employment_years</th>\n",
       "    </tr>\n",
       "  </thead>\n",
       "  <tbody>\n",
       "    <tr>\n",
       "      <th>0</th>\n",
       "      <td>CO</td>\n",
       "      <td>Director level</td>\n",
       "      <td>Deputy</td>\n",
       "      <td>E</td>\n",
       "      <td>MORTGAGE</td>\n",
       "      <td>Individual</td>\n",
       "      <td>w</td>\n",
       "      <td>debt_consolidation</td>\n",
       "      <td>E1</td>\n",
       "      <td>60 months</td>\n",
       "      <td>Source Verified</td>\n",
       "      <td>Director level</td>\n",
       "    </tr>\n",
       "    <tr>\n",
       "      <th>1</th>\n",
       "      <td>CA</td>\n",
       "      <td>Director level</td>\n",
       "      <td>Department of Veterans Affairs</td>\n",
       "      <td>B</td>\n",
       "      <td>RENT</td>\n",
       "      <td>Individual</td>\n",
       "      <td>w</td>\n",
       "      <td>debt_consolidation</td>\n",
       "      <td>B1</td>\n",
       "      <td>36 months</td>\n",
       "      <td>Verified</td>\n",
       "      <td>Director level</td>\n",
       "    </tr>\n",
       "    <tr>\n",
       "      <th>2</th>\n",
       "      <td>FL</td>\n",
       "      <td>Director level</td>\n",
       "      <td>Marble polishing</td>\n",
       "      <td>B</td>\n",
       "      <td>MORTGAGE</td>\n",
       "      <td>Individual</td>\n",
       "      <td>w</td>\n",
       "      <td>debt_consolidation</td>\n",
       "      <td>B5</td>\n",
       "      <td>36 months</td>\n",
       "      <td>Source Verified</td>\n",
       "      <td>Director level</td>\n",
       "    </tr>\n",
       "    <tr>\n",
       "      <th>3</th>\n",
       "      <td>IL</td>\n",
       "      <td>Director level</td>\n",
       "      <td>printer</td>\n",
       "      <td>B</td>\n",
       "      <td>MORTGAGE</td>\n",
       "      <td>Individual</td>\n",
       "      <td>w</td>\n",
       "      <td>debt_consolidation</td>\n",
       "      <td>B2</td>\n",
       "      <td>36 months</td>\n",
       "      <td>Source Verified</td>\n",
       "      <td>Director level</td>\n",
       "    </tr>\n",
       "    <tr>\n",
       "      <th>4</th>\n",
       "      <td>MD</td>\n",
       "      <td>Director level</td>\n",
       "      <td>Southern Mgmt</td>\n",
       "      <td>F</td>\n",
       "      <td>RENT</td>\n",
       "      <td>Individual</td>\n",
       "      <td>f</td>\n",
       "      <td>debt_consolidation</td>\n",
       "      <td>F5</td>\n",
       "      <td>60 months</td>\n",
       "      <td>Verified</td>\n",
       "      <td>Director level</td>\n",
       "    </tr>\n",
       "    <tr>\n",
       "      <th>...</th>\n",
       "      <td>...</td>\n",
       "      <td>...</td>\n",
       "      <td>...</td>\n",
       "      <td>...</td>\n",
       "      <td>...</td>\n",
       "      <td>...</td>\n",
       "      <td>...</td>\n",
       "      <td>...</td>\n",
       "      <td>...</td>\n",
       "      <td>...</td>\n",
       "      <td>...</td>\n",
       "      <td>...</td>\n",
       "    </tr>\n",
       "    <tr>\n",
       "      <th>19995</th>\n",
       "      <td>MO</td>\n",
       "      <td>Mid-senior level</td>\n",
       "      <td>lighting coordinator</td>\n",
       "      <td>D</td>\n",
       "      <td>RENT</td>\n",
       "      <td>Individual</td>\n",
       "      <td>w</td>\n",
       "      <td>debt_consolidation</td>\n",
       "      <td>D4</td>\n",
       "      <td>36 months</td>\n",
       "      <td>Not Verified</td>\n",
       "      <td>Mid-senior level</td>\n",
       "    </tr>\n",
       "    <tr>\n",
       "      <th>19996</th>\n",
       "      <td>VA</td>\n",
       "      <td>Entry level</td>\n",
       "      <td>Contract &amp; Compliance Manager</td>\n",
       "      <td>D</td>\n",
       "      <td>MORTGAGE</td>\n",
       "      <td>Individual</td>\n",
       "      <td>f</td>\n",
       "      <td>debt_consolidation</td>\n",
       "      <td>D4</td>\n",
       "      <td>60 months</td>\n",
       "      <td>Source Verified</td>\n",
       "      <td>Entry level</td>\n",
       "    </tr>\n",
       "    <tr>\n",
       "      <th>19997</th>\n",
       "      <td>TX</td>\n",
       "      <td>Director level</td>\n",
       "      <td>Pharmacist</td>\n",
       "      <td>B</td>\n",
       "      <td>MORTGAGE</td>\n",
       "      <td>Individual</td>\n",
       "      <td>f</td>\n",
       "      <td>debt_consolidation</td>\n",
       "      <td>B5</td>\n",
       "      <td>36 months</td>\n",
       "      <td>Source Verified</td>\n",
       "      <td>Director level</td>\n",
       "    </tr>\n",
       "    <tr>\n",
       "      <th>19998</th>\n",
       "      <td>FL</td>\n",
       "      <td>Director level</td>\n",
       "      <td>Manager In Training</td>\n",
       "      <td>A</td>\n",
       "      <td>MORTGAGE</td>\n",
       "      <td>Individual</td>\n",
       "      <td>w</td>\n",
       "      <td>car</td>\n",
       "      <td>A5</td>\n",
       "      <td>36 months</td>\n",
       "      <td>Not Verified</td>\n",
       "      <td>Director level</td>\n",
       "    </tr>\n",
       "    <tr>\n",
       "      <th>19999</th>\n",
       "      <td>FL</td>\n",
       "      <td>Entry level</td>\n",
       "      <td>rv technician</td>\n",
       "      <td>E</td>\n",
       "      <td>MORTGAGE</td>\n",
       "      <td>Individual</td>\n",
       "      <td>f</td>\n",
       "      <td>debt_consolidation</td>\n",
       "      <td>E1</td>\n",
       "      <td>60 months</td>\n",
       "      <td>Verified</td>\n",
       "      <td>Entry level</td>\n",
       "    </tr>\n",
       "  </tbody>\n",
       "</table>\n",
       "<p>94148 rows × 12 columns</p>\n",
       "</div>"
      ],
      "text/plain": [
       "      addr_state  employment_years                       emp_title grade  \\\n",
       "0             CO    Director level                          Deputy     E   \n",
       "1             CA    Director level  Department of Veterans Affairs     B   \n",
       "2             FL    Director level                Marble polishing     B   \n",
       "3             IL    Director level                         printer     B   \n",
       "4             MD    Director level                   Southern Mgmt     F   \n",
       "...          ...               ...                             ...   ...   \n",
       "19995         MO  Mid-senior level            lighting coordinator     D   \n",
       "19996         VA       Entry level   Contract & Compliance Manager     D   \n",
       "19997         TX    Director level                      Pharmacist     B   \n",
       "19998         FL    Director level             Manager In Training     A   \n",
       "19999         FL       Entry level                   rv technician     E   \n",
       "\n",
       "      home_ownership application_type initial_list_status             purpose  \\\n",
       "0           MORTGAGE       Individual                   w  debt_consolidation   \n",
       "1               RENT       Individual                   w  debt_consolidation   \n",
       "2           MORTGAGE       Individual                   w  debt_consolidation   \n",
       "3           MORTGAGE       Individual                   w  debt_consolidation   \n",
       "4               RENT       Individual                   f  debt_consolidation   \n",
       "...              ...              ...                 ...                 ...   \n",
       "19995           RENT       Individual                   w  debt_consolidation   \n",
       "19996       MORTGAGE       Individual                   f  debt_consolidation   \n",
       "19997       MORTGAGE       Individual                   f  debt_consolidation   \n",
       "19998       MORTGAGE       Individual                   w                 car   \n",
       "19999       MORTGAGE       Individual                   f  debt_consolidation   \n",
       "\n",
       "      sub_grade        term verification_status  employment_years  \n",
       "0            E1   60 months     Source Verified    Director level  \n",
       "1            B1   36 months            Verified    Director level  \n",
       "2            B5   36 months     Source Verified    Director level  \n",
       "3            B2   36 months     Source Verified    Director level  \n",
       "4            F5   60 months            Verified    Director level  \n",
       "...         ...         ...                 ...               ...  \n",
       "19995        D4   36 months        Not Verified  Mid-senior level  \n",
       "19996        D4   60 months     Source Verified       Entry level  \n",
       "19997        B5   36 months     Source Verified    Director level  \n",
       "19998        A5   36 months        Not Verified    Director level  \n",
       "19999        E1   60 months            Verified       Entry level  \n",
       "\n",
       "[94148 rows x 12 columns]"
      ]
     },
     "execution_count": 39,
     "metadata": {},
     "output_type": "execute_result"
    }
   ],
   "source": [
    "cat_cols"
   ]
  },
  {
   "cell_type": "markdown",
   "id": "55d49802",
   "metadata": {},
   "source": [
    "# Outliers for numerical datatypes and resolving them"
   ]
  },
  {
   "cell_type": "code",
   "execution_count": 40,
   "id": "c94ca123",
   "metadata": {},
   "outputs": [
    {
     "name": "stdout",
     "output_type": "stream",
     "text": [
      "annual_inc\n",
      "Outliers =  19       852000.0\n",
      "25       221000.0\n",
      "57       225000.0\n",
      "129      160000.0\n",
      "141      190000.0\n",
      "           ...   \n",
      "19904    180000.0\n",
      "19915    230000.0\n",
      "19943    170000.0\n",
      "19975    214000.0\n",
      "19978    286000.0\n",
      "Name: annual_inc, Length: 4771, dtype: float64\n",
      "fico_range_high\n",
      "Outliers =  66       789.0\n",
      "99       784.0\n",
      "136      779.0\n",
      "152      799.0\n",
      "202      779.0\n",
      "         ...  \n",
      "19773    794.0\n",
      "19789    784.0\n",
      "19850    809.0\n",
      "19904    799.0\n",
      "19998    809.0\n",
      "Name: fico_range_high, Length: 3065, dtype: float64\n",
      "fico_range_low\n",
      "Outliers =  66       785.0\n",
      "99       780.0\n",
      "136      775.0\n",
      "152      795.0\n",
      "202      775.0\n",
      "         ...  \n",
      "19773    790.0\n",
      "19789    780.0\n",
      "19850    805.0\n",
      "19904    795.0\n",
      "19998    805.0\n",
      "Name: fico_range_low, Length: 3065, dtype: float64\n",
      "int_rate\n",
      "Outliers =  65       30.74\n",
      "106      29.99\n",
      "150      26.24\n",
      "211      26.30\n",
      "223      28.14\n",
      "         ...  \n",
      "19577    26.30\n",
      "19602    27.34\n",
      "19684    28.34\n",
      "19690    25.57\n",
      "19752    30.17\n",
      "Name: int_rate, Length: 1733, dtype: float64\n",
      "loan_amnt\n",
      "Outliers =  211      40000.0\n",
      "379      40000.0\n",
      "396      40000.0\n",
      "453      40000.0\n",
      "701      40000.0\n",
      "          ...   \n",
      "19137    40000.0\n",
      "19212    40000.0\n",
      "19590    40000.0\n",
      "19752    40000.0\n",
      "19904    40000.0\n",
      "Name: loan_amnt, Length: 522, dtype: float64\n",
      "num_actv_bc_tl\n",
      "Outliers =  4        14.0\n",
      "193      11.0\n",
      "284      10.0\n",
      "325      17.0\n",
      "347      13.0\n",
      "         ... \n",
      "19792    11.0\n",
      "19794    10.0\n",
      "19823    12.0\n",
      "19826    10.0\n",
      "19957    11.0\n",
      "Name: num_actv_bc_tl, Length: 1919, dtype: float64\n",
      "mort_acc\n",
      "Outliers =  37        8.0\n",
      "39       12.0\n",
      "135       8.0\n",
      "196       9.0\n",
      "422       8.0\n",
      "         ... \n",
      "19643     8.0\n",
      "19658     8.0\n",
      "19850    11.0\n",
      "19916    11.0\n",
      "19978     9.0\n",
      "Name: mort_acc, Length: 1249, dtype: float64\n",
      "tot_cur_bal\n",
      "Outliers =  94        614167.0\n",
      "95        693824.0\n",
      "107      1069794.0\n",
      "133       565589.0\n",
      "150       674609.0\n",
      "           ...    \n",
      "19741     612870.0\n",
      "19850     639911.0\n",
      "19895     768872.0\n",
      "19943     754294.0\n",
      "19996     494439.0\n",
      "Name: tot_cur_bal, Length: 3061, dtype: float64\n",
      "open_acc\n",
      "Outliers =  65       28.0\n",
      "165      26.0\n",
      "208      27.0\n",
      "247      26.0\n",
      "284      31.0\n",
      "         ... \n",
      "19682    30.0\n",
      "19742    24.0\n",
      "19753    24.0\n",
      "19811    25.0\n",
      "19842    32.0\n",
      "Name: open_acc, Length: 3337, dtype: float64\n",
      "pub_rec\n",
      "Outliers =  21       1.0\n",
      "22       1.0\n",
      "27       2.0\n",
      "32       1.0\n",
      "38       1.0\n",
      "        ... \n",
      "19937    3.0\n",
      "19953    1.0\n",
      "19963    1.0\n",
      "19968    1.0\n",
      "19981    1.0\n",
      "Name: pub_rec, Length: 15453, dtype: float64\n",
      "pub_rec_bankruptcies\n",
      "Outliers =  21       1.0\n",
      "27       1.0\n",
      "32       1.0\n",
      "43       1.0\n",
      "58       1.0\n",
      "        ... \n",
      "19935    1.0\n",
      "19953    1.0\n",
      "19963    1.0\n",
      "19968    1.0\n",
      "19981    1.0\n",
      "Name: pub_rec_bankruptcies, Length: 11356, dtype: float64\n",
      "revol_bal\n",
      "Outliers =  38       48144.0\n",
      "46       46475.0\n",
      "57       69535.0\n",
      "71       43117.0\n",
      "72       51140.0\n",
      "          ...   \n",
      "19915    44261.0\n",
      "19930    43555.0\n",
      "19978    46105.0\n",
      "19989    41481.0\n",
      "19997    43166.0\n",
      "Name: revol_bal, Length: 5584, dtype: float64\n",
      "revol_util\n",
      "Outliers =  456      132.2\n",
      "17455    143.6\n",
      "52833    152.6\n",
      "16802    127.6\n",
      "Name: revol_util, dtype: float64\n",
      "total_acc\n",
      "Outliers =  4        59.0\n",
      "71       59.0\n",
      "107      58.0\n",
      "133      58.0\n",
      "258      64.0\n",
      "         ... \n",
      "19601    59.0\n",
      "19678    58.0\n",
      "19703    61.0\n",
      "19809    63.0\n",
      "19895    64.0\n",
      "Name: total_acc, Length: 1636, dtype: float64\n",
      "year\n",
      "Outliers =  3        1980\n",
      "33       1978\n",
      "63       1981\n",
      "108      1980\n",
      "141      1980\n",
      "         ... \n",
      "19715    1970\n",
      "19763    1973\n",
      "19793    1981\n",
      "19811    1977\n",
      "19812    1973\n",
      "Name: year, Length: 2278, dtype: int64\n"
     ]
    }
   ],
   "source": [
    "#to find the outliers\n",
    "for col_name in data.select_dtypes(include=np.number).columns[:-1]:\n",
    "    print(col_name)\n",
    "    q1 = data[col_name].quantile(0.25)\n",
    "    q3 = data[col_name].quantile(0.75)\n",
    "    iqr = q3 - q1\n",
    "    \n",
    "    low = q1-1.5*iqr\n",
    "    high = q3+1.5*iqr\n",
    "    print(\"Outliers = \",data.loc[(data[col_name] < low) | (data[col_name] > high), col_name])\n",
    "    "
   ]
  },
  {
   "cell_type": "code",
   "execution_count": 41,
   "id": "b7685366",
   "metadata": {},
   "outputs": [
    {
     "data": {
      "image/png": "[encoded data removed]",
      "text/plain": [
       "<Figure size 640x480 with 1 Axes>"
      ]
     },
     "metadata": {},
     "output_type": "display_data"
    }
   ],
   "source": [
    "sns.boxplot(x=data['annual_inc'])\n",
    "plt.show()"
   ]
  },
  {
   "cell_type": "code",
   "execution_count": 42,
   "id": "8f57f93b",
   "metadata": {},
   "outputs": [
    {
     "data": {
      "text/html": [
       "<div>\n",
       "<style scoped>\n",
       "    .dataframe tbody tr th:only-of-type {\n",
       "        vertical-align: middle;\n",
       "    }\n",
       "\n",
       "    .dataframe tbody tr th {\n",
       "        vertical-align: top;\n",
       "    }\n",
       "\n",
       "    .dataframe thead th {\n",
       "        text-align: right;\n",
       "    }\n",
       "</style>\n",
       "<table border=\"1\" class=\"dataframe\">\n",
       "  <thead>\n",
       "    <tr style=\"text-align: right;\">\n",
       "      <th></th>\n",
       "      <th>annual_inc</th>\n",
       "    </tr>\n",
       "  </thead>\n",
       "  <tbody>\n",
       "    <tr>\n",
       "      <th>count</th>\n",
       "      <td>9.414800e+04</td>\n",
       "    </tr>\n",
       "    <tr>\n",
       "      <th>mean</th>\n",
       "      <td>7.780448e+04</td>\n",
       "    </tr>\n",
       "    <tr>\n",
       "      <th>std</th>\n",
       "      <td>7.415663e+04</td>\n",
       "    </tr>\n",
       "    <tr>\n",
       "      <th>min</th>\n",
       "      <td>0.000000e+00</td>\n",
       "    </tr>\n",
       "    <tr>\n",
       "      <th>25%</th>\n",
       "      <td>4.800000e+04</td>\n",
       "    </tr>\n",
       "    <tr>\n",
       "      <th>50%</th>\n",
       "      <td>6.500000e+04</td>\n",
       "    </tr>\n",
       "    <tr>\n",
       "      <th>75%</th>\n",
       "      <td>9.200000e+04</td>\n",
       "    </tr>\n",
       "    <tr>\n",
       "      <th>max</th>\n",
       "      <td>9.522972e+06</td>\n",
       "    </tr>\n",
       "  </tbody>\n",
       "</table>\n",
       "</div>"
      ],
      "text/plain": [
       "         annual_inc\n",
       "count  9.414800e+04\n",
       "mean   7.780448e+04\n",
       "std    7.415663e+04\n",
       "min    0.000000e+00\n",
       "25%    4.800000e+04\n",
       "50%    6.500000e+04\n",
       "75%    9.200000e+04\n",
       "max    9.522972e+06"
      ]
     },
     "execution_count": 42,
     "metadata": {},
     "output_type": "execute_result"
    }
   ],
   "source": [
    "data[['annual_inc']].describe()"
   ]
  },
  {
   "cell_type": "code",
   "execution_count": 43,
   "id": "46561819",
   "metadata": {},
   "outputs": [],
   "source": [
    "data = data[~(data['annual_inc']<0)] #income cannot be negative"
   ]
  },
  {
   "cell_type": "code",
   "execution_count": 44,
   "id": "f2f1eaf8",
   "metadata": {},
   "outputs": [
    {
     "data": {
      "text/plain": [
       "48000.0"
      ]
     },
     "execution_count": 44,
     "metadata": {},
     "output_type": "execute_result"
    }
   ],
   "source": [
    "data['annual_inc'].quantile(0.25)"
   ]
  },
  {
   "cell_type": "code",
   "execution_count": 45,
   "id": "4ae2e8f8",
   "metadata": {},
   "outputs": [
    {
     "data": {
      "text/plain": [
       "92000.0"
      ]
     },
     "execution_count": 45,
     "metadata": {},
     "output_type": "execute_result"
    }
   ],
   "source": [
    "data['annual_inc'].quantile(0.75)"
   ]
  },
  {
   "cell_type": "code",
   "execution_count": 46,
   "id": "41bd1029",
   "metadata": {},
   "outputs": [
    {
     "data": {
      "text/plain": [
       "44000.0"
      ]
     },
     "execution_count": 46,
     "metadata": {},
     "output_type": "execute_result"
    }
   ],
   "source": [
    "Q1 = data['annual_inc'].quantile(0.25)\n",
    "Q3 = data['annual_inc'].quantile(0.75)\n",
    "IQR = Q3-Q1\n",
    "IQR"
   ]
  },
  {
   "cell_type": "code",
   "execution_count": 47,
   "id": "2084f23c",
   "metadata": {},
   "outputs": [],
   "source": [
    "lower_lim = Q1 - 1.5 * IQR\n",
    "upper_lim = Q3 + 1.5 * IQR"
   ]
  },
  {
   "cell_type": "code",
   "execution_count": 48,
   "id": "e994f07a",
   "metadata": {},
   "outputs": [
    {
     "data": {
      "text/plain": [
       "-18000.0"
      ]
     },
     "execution_count": 48,
     "metadata": {},
     "output_type": "execute_result"
    }
   ],
   "source": [
    "lower_lim"
   ]
  },
  {
   "cell_type": "code",
   "execution_count": 49,
   "id": "bc21ccbf",
   "metadata": {},
   "outputs": [
    {
     "data": {
      "text/plain": [
       "158000.0"
      ]
     },
     "execution_count": 49,
     "metadata": {},
     "output_type": "execute_result"
    }
   ],
   "source": [
    "upper_lim"
   ]
  },
  {
   "cell_type": "code",
   "execution_count": 50,
   "id": "f5fc11bd",
   "metadata": {},
   "outputs": [],
   "source": [
    "outliers_low = (data['annual_inc']<lower_lim)"
   ]
  },
  {
   "cell_type": "code",
   "execution_count": 51,
   "id": "26dcc0e1",
   "metadata": {},
   "outputs": [],
   "source": [
    "outliers_up = (data['annual_inc']>upper_lim)"
   ]
  },
  {
   "cell_type": "code",
   "execution_count": 52,
   "id": "4c1e6983",
   "metadata": {},
   "outputs": [
    {
     "data": {
      "text/plain": [
       "0         85000.0\n",
       "1         40000.0\n",
       "2         60000.0\n",
       "3        100742.0\n",
       "4         80000.0\n",
       "           ...   \n",
       "19995     38500.0\n",
       "19996     80000.0\n",
       "19997     95000.0\n",
       "19998     35000.0\n",
       "19999     30700.0\n",
       "Name: annual_inc, Length: 89377, dtype: float64"
      ]
     },
     "execution_count": 52,
     "metadata": {},
     "output_type": "execute_result"
    }
   ],
   "source": [
    "data['annual_inc'][~(outliers_low | outliers_up)]"
   ]
  },
  {
   "cell_type": "code",
   "execution_count": 53,
   "id": "b94d73ee",
   "metadata": {},
   "outputs": [],
   "source": [
    "data = data[~(outliers_low | outliers_up)]"
   ]
  },
  {
   "cell_type": "code",
   "execution_count": 54,
   "id": "02a60561",
   "metadata": {},
   "outputs": [
    {
     "data": {
      "text/html": [
       "<div>\n",
       "<style scoped>\n",
       "    .dataframe tbody tr th:only-of-type {\n",
       "        vertical-align: middle;\n",
       "    }\n",
       "\n",
       "    .dataframe tbody tr th {\n",
       "        vertical-align: top;\n",
       "    }\n",
       "\n",
       "    .dataframe thead th {\n",
       "        text-align: right;\n",
       "    }\n",
       "</style>\n",
       "<table border=\"1\" class=\"dataframe\">\n",
       "  <thead>\n",
       "    <tr style=\"text-align: right;\">\n",
       "      <th></th>\n",
       "      <th>addr_state</th>\n",
       "      <th>annual_inc</th>\n",
       "      <th>earliest_cr_line</th>\n",
       "      <th>emp_length</th>\n",
       "      <th>emp_title</th>\n",
       "      <th>fico_range_high</th>\n",
       "      <th>fico_range_low</th>\n",
       "      <th>grade</th>\n",
       "      <th>home_ownership</th>\n",
       "      <th>application_type</th>\n",
       "      <th>...</th>\n",
       "      <th>revol_util</th>\n",
       "      <th>sub_grade</th>\n",
       "      <th>term</th>\n",
       "      <th>title</th>\n",
       "      <th>total_acc</th>\n",
       "      <th>verification_status</th>\n",
       "      <th>loan_status</th>\n",
       "      <th>year</th>\n",
       "      <th>month</th>\n",
       "      <th>employment_years</th>\n",
       "    </tr>\n",
       "  </thead>\n",
       "  <tbody>\n",
       "    <tr>\n",
       "      <th>0</th>\n",
       "      <td>CO</td>\n",
       "      <td>85000.0</td>\n",
       "      <td>Jul-1997</td>\n",
       "      <td>10+ years</td>\n",
       "      <td>Deputy</td>\n",
       "      <td>744.0</td>\n",
       "      <td>740.0</td>\n",
       "      <td>E</td>\n",
       "      <td>MORTGAGE</td>\n",
       "      <td>Individual</td>\n",
       "      <td>...</td>\n",
       "      <td>93.6</td>\n",
       "      <td>E1</td>\n",
       "      <td>60 months</td>\n",
       "      <td>Debt consolidation</td>\n",
       "      <td>8.0</td>\n",
       "      <td>Source Verified</td>\n",
       "      <td>Charged Off</td>\n",
       "      <td>1997</td>\n",
       "      <td>7</td>\n",
       "      <td>Director level</td>\n",
       "    </tr>\n",
       "    <tr>\n",
       "      <th>1</th>\n",
       "      <td>CA</td>\n",
       "      <td>40000.0</td>\n",
       "      <td>Apr-1987</td>\n",
       "      <td>10+ years</td>\n",
       "      <td>Department of Veterans Affairs</td>\n",
       "      <td>724.0</td>\n",
       "      <td>720.0</td>\n",
       "      <td>B</td>\n",
       "      <td>RENT</td>\n",
       "      <td>Individual</td>\n",
       "      <td>...</td>\n",
       "      <td>60.3</td>\n",
       "      <td>B1</td>\n",
       "      <td>36 months</td>\n",
       "      <td>Credit Loan</td>\n",
       "      <td>12.0</td>\n",
       "      <td>Verified</td>\n",
       "      <td>Fully Paid</td>\n",
       "      <td>1987</td>\n",
       "      <td>4</td>\n",
       "      <td>Director level</td>\n",
       "    </tr>\n",
       "    <tr>\n",
       "      <th>2</th>\n",
       "      <td>FL</td>\n",
       "      <td>60000.0</td>\n",
       "      <td>Aug-2007</td>\n",
       "      <td>10+ years</td>\n",
       "      <td>Marble polishing</td>\n",
       "      <td>679.0</td>\n",
       "      <td>675.0</td>\n",
       "      <td>B</td>\n",
       "      <td>MORTGAGE</td>\n",
       "      <td>Individual</td>\n",
       "      <td>...</td>\n",
       "      <td>88.5</td>\n",
       "      <td>B5</td>\n",
       "      <td>36 months</td>\n",
       "      <td>Debt consolidation</td>\n",
       "      <td>16.0</td>\n",
       "      <td>Source Verified</td>\n",
       "      <td>Fully Paid</td>\n",
       "      <td>2007</td>\n",
       "      <td>8</td>\n",
       "      <td>Director level</td>\n",
       "    </tr>\n",
       "    <tr>\n",
       "      <th>3</th>\n",
       "      <td>IL</td>\n",
       "      <td>100742.0</td>\n",
       "      <td>Sep-1980</td>\n",
       "      <td>10+ years</td>\n",
       "      <td>printer</td>\n",
       "      <td>664.0</td>\n",
       "      <td>660.0</td>\n",
       "      <td>B</td>\n",
       "      <td>MORTGAGE</td>\n",
       "      <td>Individual</td>\n",
       "      <td>...</td>\n",
       "      <td>69.0</td>\n",
       "      <td>B2</td>\n",
       "      <td>36 months</td>\n",
       "      <td>Debt consolidation</td>\n",
       "      <td>19.0</td>\n",
       "      <td>Source Verified</td>\n",
       "      <td>Fully Paid</td>\n",
       "      <td>1980</td>\n",
       "      <td>9</td>\n",
       "      <td>Director level</td>\n",
       "    </tr>\n",
       "    <tr>\n",
       "      <th>4</th>\n",
       "      <td>MD</td>\n",
       "      <td>80000.0</td>\n",
       "      <td>Jul-1999</td>\n",
       "      <td>10+ years</td>\n",
       "      <td>Southern Mgmt</td>\n",
       "      <td>669.0</td>\n",
       "      <td>665.0</td>\n",
       "      <td>F</td>\n",
       "      <td>RENT</td>\n",
       "      <td>Individual</td>\n",
       "      <td>...</td>\n",
       "      <td>90.0</td>\n",
       "      <td>F5</td>\n",
       "      <td>60 months</td>\n",
       "      <td>Debt Connsolidation</td>\n",
       "      <td>59.0</td>\n",
       "      <td>Verified</td>\n",
       "      <td>Fully Paid</td>\n",
       "      <td>1999</td>\n",
       "      <td>7</td>\n",
       "      <td>Director level</td>\n",
       "    </tr>\n",
       "    <tr>\n",
       "      <th>...</th>\n",
       "      <td>...</td>\n",
       "      <td>...</td>\n",
       "      <td>...</td>\n",
       "      <td>...</td>\n",
       "      <td>...</td>\n",
       "      <td>...</td>\n",
       "      <td>...</td>\n",
       "      <td>...</td>\n",
       "      <td>...</td>\n",
       "      <td>...</td>\n",
       "      <td>...</td>\n",
       "      <td>...</td>\n",
       "      <td>...</td>\n",
       "      <td>...</td>\n",
       "      <td>...</td>\n",
       "      <td>...</td>\n",
       "      <td>...</td>\n",
       "      <td>...</td>\n",
       "      <td>...</td>\n",
       "      <td>...</td>\n",
       "      <td>...</td>\n",
       "    </tr>\n",
       "    <tr>\n",
       "      <th>19995</th>\n",
       "      <td>MO</td>\n",
       "      <td>38500.0</td>\n",
       "      <td>Sep-2010</td>\n",
       "      <td>4 years</td>\n",
       "      <td>lighting coordinator</td>\n",
       "      <td>679.0</td>\n",
       "      <td>675.0</td>\n",
       "      <td>D</td>\n",
       "      <td>RENT</td>\n",
       "      <td>Individual</td>\n",
       "      <td>...</td>\n",
       "      <td>60.0</td>\n",
       "      <td>D4</td>\n",
       "      <td>36 months</td>\n",
       "      <td>Debt consolidation</td>\n",
       "      <td>10.0</td>\n",
       "      <td>Not Verified</td>\n",
       "      <td>NaN</td>\n",
       "      <td>2010</td>\n",
       "      <td>9</td>\n",
       "      <td>Mid-senior level</td>\n",
       "    </tr>\n",
       "    <tr>\n",
       "      <th>19996</th>\n",
       "      <td>VA</td>\n",
       "      <td>80000.0</td>\n",
       "      <td>Dec-1998</td>\n",
       "      <td>3 years</td>\n",
       "      <td>Contract &amp; Compliance Manager</td>\n",
       "      <td>674.0</td>\n",
       "      <td>670.0</td>\n",
       "      <td>D</td>\n",
       "      <td>MORTGAGE</td>\n",
       "      <td>Individual</td>\n",
       "      <td>...</td>\n",
       "      <td>75.1</td>\n",
       "      <td>D4</td>\n",
       "      <td>60 months</td>\n",
       "      <td>Debt consolidation</td>\n",
       "      <td>30.0</td>\n",
       "      <td>Source Verified</td>\n",
       "      <td>NaN</td>\n",
       "      <td>1998</td>\n",
       "      <td>12</td>\n",
       "      <td>Entry level</td>\n",
       "    </tr>\n",
       "    <tr>\n",
       "      <th>19997</th>\n",
       "      <td>TX</td>\n",
       "      <td>95000.0</td>\n",
       "      <td>May-1996</td>\n",
       "      <td>10+ years</td>\n",
       "      <td>Pharmacist</td>\n",
       "      <td>729.0</td>\n",
       "      <td>725.0</td>\n",
       "      <td>B</td>\n",
       "      <td>MORTGAGE</td>\n",
       "      <td>Individual</td>\n",
       "      <td>...</td>\n",
       "      <td>60.7</td>\n",
       "      <td>B5</td>\n",
       "      <td>36 months</td>\n",
       "      <td>Debt consolidation</td>\n",
       "      <td>29.0</td>\n",
       "      <td>Source Verified</td>\n",
       "      <td>NaN</td>\n",
       "      <td>1996</td>\n",
       "      <td>5</td>\n",
       "      <td>Director level</td>\n",
       "    </tr>\n",
       "    <tr>\n",
       "      <th>19998</th>\n",
       "      <td>FL</td>\n",
       "      <td>35000.0</td>\n",
       "      <td>Mar-2003</td>\n",
       "      <td>10+ years</td>\n",
       "      <td>Manager In Training</td>\n",
       "      <td>809.0</td>\n",
       "      <td>805.0</td>\n",
       "      <td>A</td>\n",
       "      <td>MORTGAGE</td>\n",
       "      <td>Individual</td>\n",
       "      <td>...</td>\n",
       "      <td>4.4</td>\n",
       "      <td>A5</td>\n",
       "      <td>36 months</td>\n",
       "      <td>Car financing</td>\n",
       "      <td>19.0</td>\n",
       "      <td>Not Verified</td>\n",
       "      <td>NaN</td>\n",
       "      <td>2003</td>\n",
       "      <td>3</td>\n",
       "      <td>Director level</td>\n",
       "    </tr>\n",
       "    <tr>\n",
       "      <th>19999</th>\n",
       "      <td>FL</td>\n",
       "      <td>30700.0</td>\n",
       "      <td>Apr-1994</td>\n",
       "      <td>&lt; 1 year</td>\n",
       "      <td>rv technician</td>\n",
       "      <td>664.0</td>\n",
       "      <td>660.0</td>\n",
       "      <td>E</td>\n",
       "      <td>MORTGAGE</td>\n",
       "      <td>Individual</td>\n",
       "      <td>...</td>\n",
       "      <td>78.8</td>\n",
       "      <td>E1</td>\n",
       "      <td>60 months</td>\n",
       "      <td>Debt consolidation</td>\n",
       "      <td>19.0</td>\n",
       "      <td>Verified</td>\n",
       "      <td>NaN</td>\n",
       "      <td>1994</td>\n",
       "      <td>4</td>\n",
       "      <td>Entry level</td>\n",
       "    </tr>\n",
       "  </tbody>\n",
       "</table>\n",
       "<p>89377 rows × 31 columns</p>\n",
       "</div>"
      ],
      "text/plain": [
       "      addr_state  annual_inc earliest_cr_line emp_length  \\\n",
       "0             CO     85000.0         Jul-1997  10+ years   \n",
       "1             CA     40000.0         Apr-1987  10+ years   \n",
       "2             FL     60000.0         Aug-2007  10+ years   \n",
       "3             IL    100742.0         Sep-1980  10+ years   \n",
       "4             MD     80000.0         Jul-1999  10+ years   \n",
       "...          ...         ...              ...        ...   \n",
       "19995         MO     38500.0         Sep-2010    4 years   \n",
       "19996         VA     80000.0         Dec-1998    3 years   \n",
       "19997         TX     95000.0         May-1996  10+ years   \n",
       "19998         FL     35000.0         Mar-2003  10+ years   \n",
       "19999         FL     30700.0         Apr-1994   < 1 year   \n",
       "\n",
       "                            emp_title  fico_range_high  fico_range_low grade  \\\n",
       "0                              Deputy            744.0           740.0     E   \n",
       "1      Department of Veterans Affairs            724.0           720.0     B   \n",
       "2                    Marble polishing            679.0           675.0     B   \n",
       "3                             printer            664.0           660.0     B   \n",
       "4                       Southern Mgmt            669.0           665.0     F   \n",
       "...                               ...              ...             ...   ...   \n",
       "19995            lighting coordinator            679.0           675.0     D   \n",
       "19996   Contract & Compliance Manager            674.0           670.0     D   \n",
       "19997                      Pharmacist            729.0           725.0     B   \n",
       "19998             Manager In Training            809.0           805.0     A   \n",
       "19999                   rv technician            664.0           660.0     E   \n",
       "\n",
       "      home_ownership application_type  ... revol_util  sub_grade        term  \\\n",
       "0           MORTGAGE       Individual  ...       93.6         E1   60 months   \n",
       "1               RENT       Individual  ...       60.3         B1   36 months   \n",
       "2           MORTGAGE       Individual  ...       88.5         B5   36 months   \n",
       "3           MORTGAGE       Individual  ...       69.0         B2   36 months   \n",
       "4               RENT       Individual  ...       90.0         F5   60 months   \n",
       "...              ...              ...  ...        ...        ...         ...   \n",
       "19995           RENT       Individual  ...       60.0         D4   36 months   \n",
       "19996       MORTGAGE       Individual  ...       75.1         D4   60 months   \n",
       "19997       MORTGAGE       Individual  ...       60.7         B5   36 months   \n",
       "19998       MORTGAGE       Individual  ...        4.4         A5   36 months   \n",
       "19999       MORTGAGE       Individual  ...       78.8         E1   60 months   \n",
       "\n",
       "                     title  total_acc  verification_status  loan_status  year  \\\n",
       "0       Debt consolidation        8.0      Source Verified  Charged Off  1997   \n",
       "1              Credit Loan       12.0             Verified   Fully Paid  1987   \n",
       "2       Debt consolidation       16.0      Source Verified   Fully Paid  2007   \n",
       "3       Debt consolidation       19.0      Source Verified   Fully Paid  1980   \n",
       "4      Debt Connsolidation       59.0             Verified   Fully Paid  1999   \n",
       "...                    ...        ...                  ...          ...   ...   \n",
       "19995   Debt consolidation       10.0         Not Verified          NaN  2010   \n",
       "19996   Debt consolidation       30.0      Source Verified          NaN  1998   \n",
       "19997   Debt consolidation       29.0      Source Verified          NaN  1996   \n",
       "19998        Car financing       19.0         Not Verified          NaN  2003   \n",
       "19999   Debt consolidation       19.0             Verified          NaN  1994   \n",
       "\n",
       "       month  employment_years  \n",
       "0          7    Director level  \n",
       "1          4    Director level  \n",
       "2          8    Director level  \n",
       "3          9    Director level  \n",
       "4          7    Director level  \n",
       "...      ...               ...  \n",
       "19995      9  Mid-senior level  \n",
       "19996     12       Entry level  \n",
       "19997      5    Director level  \n",
       "19998      3    Director level  \n",
       "19999      4       Entry level  \n",
       "\n",
       "[89377 rows x 31 columns]"
      ]
     },
     "execution_count": 54,
     "metadata": {},
     "output_type": "execute_result"
    }
   ],
   "source": [
    "data"
   ]
  },
  {
   "cell_type": "code",
   "execution_count": 55,
   "id": "2b7de941",
   "metadata": {},
   "outputs": [
    {
     "data": {
      "image/png": "[encoded data removed]",
      "text/plain": [
       "<Figure size 640x480 with 1 Axes>"
      ]
     },
     "metadata": {},
     "output_type": "display_data"
    }
   ],
   "source": [
    "sns.boxplot(x=data['annual_inc'])\n",
    "plt.show()"
   ]
  },
  {
   "cell_type": "code",
   "execution_count": 56,
   "id": "2630014f",
   "metadata": {},
   "outputs": [],
   "source": [
    "#Still got few outliers so replace the remaining with median\n",
    "median = data.loc[data['annual_inc']<140000,'annual_inc'].median()\n",
    "data['annual_inc'] = np.where(data['annual_inc']>140000,median,data['annual_inc'])"
   ]
  },
  {
   "cell_type": "code",
   "execution_count": 57,
   "id": "b66a1f71",
   "metadata": {},
   "outputs": [
    {
     "data": {
      "image/png": "[encoded data removed]",
      "text/plain": [
       "<Figure size 640x480 with 1 Axes>"
      ]
     },
     "metadata": {},
     "output_type": "display_data"
    }
   ],
   "source": [
    "sns.boxplot(x=data['annual_inc'])\n",
    "plt.show()"
   ]
  },
  {
   "cell_type": "markdown",
   "id": "12b60794",
   "metadata": {},
   "source": [
    "### Outliers of Annual Income has been removed with two methos, 1. Dropping the outliers method, 2. replace with median"
   ]
  },
  {
   "cell_type": "code",
   "execution_count": 58,
   "id": "d797bde2",
   "metadata": {},
   "outputs": [
    {
     "data": {
      "image/png": "[encoded data removed]",
      "text/plain": [
       "<Figure size 640x480 with 1 Axes>"
      ]
     },
     "metadata": {},
     "output_type": "display_data"
    }
   ],
   "source": [
    "sns.boxplot(x=data['fico_range_high'])\n",
    "plt.show()"
   ]
  },
  {
   "cell_type": "code",
   "execution_count": 59,
   "id": "a790bee3",
   "metadata": {},
   "outputs": [],
   "source": [
    "#removing fico range high outlier\n",
    "data = data[~(data['fico_range_high']>775)]"
   ]
  },
  {
   "cell_type": "code",
   "execution_count": 60,
   "id": "65704994",
   "metadata": {},
   "outputs": [
    {
     "data": {
      "image/png": "[encoded data removed]",
      "text/plain": [
       "<Figure size 640x480 with 1 Axes>"
      ]
     },
     "metadata": {},
     "output_type": "display_data"
    }
   ],
   "source": [
    "sns.boxplot(x=data['fico_range_high'])\n",
    "plt.show()"
   ]
  },
  {
   "cell_type": "code",
   "execution_count": 61,
   "id": "0ead2fd2",
   "metadata": {},
   "outputs": [
    {
     "data": {
      "text/plain": [
       "(86566, 31)"
      ]
     },
     "execution_count": 61,
     "metadata": {},
     "output_type": "execute_result"
    }
   ],
   "source": [
    "data.shape"
   ]
  },
  {
   "cell_type": "code",
   "execution_count": 62,
   "id": "57aa501c",
   "metadata": {},
   "outputs": [
    {
     "data": {
      "image/png": "[encoded data removed]",
      "text/plain": [
       "<Figure size 640x480 with 1 Axes>"
      ]
     },
     "metadata": {},
     "output_type": "display_data"
    }
   ],
   "source": [
    "#no outliers\n",
    "sns.boxplot(x=data['fico_range_low'])\n",
    "plt.show()"
   ]
  },
  {
   "cell_type": "code",
   "execution_count": 63,
   "id": "92780001",
   "metadata": {},
   "outputs": [
    {
     "data": {
      "image/png": "[encoded data removed]",
      "text/plain": [
       "<Figure size 640x480 with 1 Axes>"
      ]
     },
     "metadata": {},
     "output_type": "display_data"
    }
   ],
   "source": [
    "sns.boxplot(x=data['int_rate'])\n",
    "plt.show()"
   ]
  },
  {
   "cell_type": "code",
   "execution_count": 64,
   "id": "efefae07",
   "metadata": {},
   "outputs": [],
   "source": [
    "#removing interest rate outlier\n",
    "data = data[~(data['int_rate']>25)]"
   ]
  },
  {
   "cell_type": "code",
   "execution_count": 65,
   "id": "379357a6",
   "metadata": {},
   "outputs": [
    {
     "data": {
      "image/png": "[encoded data removed]",
      "text/plain": [
       "<Figure size 640x480 with 1 Axes>"
      ]
     },
     "metadata": {},
     "output_type": "display_data"
    }
   ],
   "source": [
    "sns.boxplot(x=data['int_rate'])\n",
    "plt.show()"
   ]
  },
  {
   "cell_type": "code",
   "execution_count": 66,
   "id": "318327bd",
   "metadata": {},
   "outputs": [
    {
     "data": {
      "image/png": "[encoded data removed]",
      "text/plain": [
       "<Figure size 640x480 with 1 Axes>"
      ]
     },
     "metadata": {},
     "output_type": "display_data"
    }
   ],
   "source": [
    "sns.boxplot(x=data['loan_amnt'])\n",
    "plt.show()"
   ]
  },
  {
   "cell_type": "code",
   "execution_count": 67,
   "id": "e6f215cf",
   "metadata": {},
   "outputs": [],
   "source": [
    "#removing outlier with median\n",
    "median = data.loc[data['loan_amnt']<35000,'loan_amnt'].median()\n",
    "data['loan_amnt'] = np.where(data['loan_amnt']>35000,median,data['loan_amnt'])"
   ]
  },
  {
   "cell_type": "code",
   "execution_count": 68,
   "id": "ac4fc08d",
   "metadata": {},
   "outputs": [
    {
     "data": {
      "image/png": "[encoded data removed]",
      "text/plain": [
       "<Figure size 640x480 with 1 Axes>"
      ]
     },
     "metadata": {},
     "output_type": "display_data"
    }
   ],
   "source": [
    "sns.boxplot(x=data['num_actv_bc_tl'])\n",
    "plt.show()"
   ]
  },
  {
   "cell_type": "code",
   "execution_count": 69,
   "id": "c2b5b626",
   "metadata": {},
   "outputs": [
    {
     "data": {
      "text/plain": [
       "3.0     17345\n",
       "2.0     16686\n",
       "4.0     13497\n",
       "5.0      9143\n",
       "1.0      8951\n",
       "6.0      5525\n",
       "7.0      3118\n",
       "8.0      1855\n",
       "0.0      1609\n",
       "9.0      1098\n",
       "10.0      666\n",
       "11.0      406\n",
       "12.0      217\n",
       "13.0      141\n",
       "14.0       75\n",
       "15.0       49\n",
       "16.0       28\n",
       "17.0       23\n",
       "18.0       16\n",
       "19.0       10\n",
       "21.0        4\n",
       "22.0        3\n",
       "26.0        3\n",
       "20.0        2\n",
       "24.0        1\n",
       "27.0        1\n",
       "32.0        1\n",
       "Name: num_actv_bc_tl, dtype: int64"
      ]
     },
     "execution_count": 69,
     "metadata": {},
     "output_type": "execute_result"
    }
   ],
   "source": [
    "data['num_actv_bc_tl'].value_counts()"
   ]
  },
  {
   "cell_type": "code",
   "execution_count": 70,
   "id": "c81d7069",
   "metadata": {},
   "outputs": [],
   "source": [
    "#removing outlier with median\n",
    "median = data.loc[data['num_actv_bc_tl']<10,'num_actv_bc_tl'].median()\n",
    "data['num_actv_bc_tl'] = np.where(data['num_actv_bc_tl']>10,median,data['loan_amnt'])"
   ]
  },
  {
   "cell_type": "code",
   "execution_count": 71,
   "id": "8c5e8eb7",
   "metadata": {},
   "outputs": [
    {
     "data": {
      "text/plain": [
       "addr_state                  0\n",
       "annual_inc                  0\n",
       "earliest_cr_line            0\n",
       "emp_length                  0\n",
       "emp_title                   0\n",
       "fico_range_high             0\n",
       "fico_range_low              0\n",
       "grade                       0\n",
       "home_ownership              0\n",
       "application_type            0\n",
       "initial_list_status         0\n",
       "int_rate                    0\n",
       "loan_amnt                   0\n",
       "num_actv_bc_tl              0\n",
       "mort_acc                 3036\n",
       "tot_cur_bal              4349\n",
       "open_acc                    0\n",
       "pub_rec                     0\n",
       "pub_rec_bankruptcies       35\n",
       "purpose                     0\n",
       "revol_bal                   0\n",
       "revol_util                 46\n",
       "sub_grade                   0\n",
       "term                        0\n",
       "title                       0\n",
       "total_acc                   0\n",
       "verification_status         0\n",
       "loan_status             16881\n",
       "year                        0\n",
       "month                       0\n",
       "employment_years            0\n",
       "dtype: int64"
      ]
     },
     "execution_count": 71,
     "metadata": {},
     "output_type": "execute_result"
    }
   ],
   "source": [
    "data.isna().sum()"
   ]
  },
  {
   "cell_type": "code",
   "execution_count": 72,
   "id": "61d0d03a",
   "metadata": {},
   "outputs": [
    {
     "data": {
      "image/png": "[encoded data removed]",
      "text/plain": [
       "<Figure size 640x480 with 1 Axes>"
      ]
     },
     "metadata": {},
     "output_type": "display_data"
    }
   ],
   "source": [
    "sns.boxplot(x=data['mort_acc'])\n",
    "plt.show()"
   ]
  },
  {
   "cell_type": "code",
   "execution_count": 73,
   "id": "406630a0",
   "metadata": {},
   "outputs": [],
   "source": [
    "data.dropna(subset = 'mort_acc', inplace = True)"
   ]
  },
  {
   "cell_type": "code",
   "execution_count": null,
   "id": "97dce9cd",
   "metadata": {},
   "outputs": [],
   "source": []
  }
 ],
 "metadata": {
  "kernelspec": {
   "display_name": "Python 3 (ipykernel)",
   "language": "python",
   "name": "python3"
  },
  "language_info": {
   "codemirror_mode": {
    "name": "ipython",
    "version": 3
   },
   "file_extension": ".py",
   "mimetype": "text/x-python",
   "name": "python",
   "nbconvert_exporter": "python",
   "pygments_lexer": "ipython3",
   "version": "3.10.9"
  }
 },
 "nbformat": 4,
 "nbformat_minor": 5
}
